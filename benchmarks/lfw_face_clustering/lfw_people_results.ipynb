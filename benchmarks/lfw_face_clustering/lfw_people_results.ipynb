{
 "cells": [
  {
   "cell_type": "code",
   "execution_count": 1,
   "metadata": {},
   "outputs": [],
   "source": [
    "import pandas as pd"
   ]
  },
  {
   "cell_type": "markdown",
   "metadata": {},
   "source": [
    "# AHC results overview"
   ]
  },
  {
   "cell_type": "code",
   "execution_count": 2,
   "metadata": {},
   "outputs": [],
   "source": [
    "models = [\n",
    "    \"SFace\",\n",
    "    \"Facenet\",\n",
    "    \"Facenet512\",\n",
    "    \"VGG-Face\",\n",
    "    \"OpenFace\",\n",
    "    \"DeepFace\",\n",
    "    \"DeepID\",\n",
    "    \"Dlib\",\n",
    "    \"ArcFace\",\n",
    "]"
   ]
  },
  {
   "cell_type": "code",
   "execution_count": 4,
   "metadata": {},
   "outputs": [],
   "source": [
    "# loop over all model and add the results to a dataframe\n",
    "df_results = pd.DataFrame()\n",
    "for model in models:\n",
    "    df = pd.read_csv(f\"../lfw_people_benchmark/results_ahc_no_outliers/{model}_results.csv\")\n",
    "    df[\"model\"] = model\n",
    "    df_results = pd.concat([df_results, df])\n",
    "\n",
    "# rename nb_identities to #identities\n",
    "df_results = df_results.rename(columns={\"nb_identities\": \"#identities\"})\n",
    "\n",
    "# rename dist_dominant_mean to PC_per_identity_mean\n",
    "df_results = df_results.rename(columns={\"dist_dominant_mean\": \"PC_per_identity_mean\"})\n",
    "\n",
    "# rename dist_dominant_max to PC_per_identity_max\n",
    "df_results = df_results.rename(columns={\"dist_dominant_max\": \"PC_per_identity_max\"})"
   ]
  },
  {
   "cell_type": "code",
   "execution_count": 5,
   "metadata": {},
   "outputs": [],
   "source": [
    "# expected_nb_cluster = 5749\n",
    "expected_nb_cluster = 5749 - 4069"
   ]
  },
  {
   "cell_type": "code",
   "execution_count": 6,
   "metadata": {},
   "outputs": [],
   "source": [
    "df_results[\"diff_#PC\"] = (df_results[\"#PC\"] - expected_nb_cluster).abs()"
   ]
  },
  {
   "cell_type": "code",
   "execution_count": 9,
   "metadata": {},
   "outputs": [
    {
     "name": "stdout",
     "output_type": "stream",
     "text": [
      "\\begin{tabular}{lllrlrr}\n",
      "\\toprule\n",
      "{} &  model\\_name &   affinity &  threshold &   linkage &   \\#PC &      DIAM \\\\\n",
      "\\midrule\n",
      "0 &  Facenet512 &     cosine &       0.30 &  complete &  4010 &  0.993671 \\\\\n",
      "1 &  Facenet512 &     cosine &       0.30 &   average &  3392 &  0.991707 \\\\\n",
      "2 &  Facenet512 &  euclidean &      23.56 &      ward &  2930 &  0.971628 \\\\\n",
      "3 &     Facenet &  euclidean &      10.00 &      ward &  4067 &  0.967481 \\\\\n",
      "4 &     Facenet &  euclidean &      10.00 &  complete &  3807 &  0.963990 \\\\\n",
      "5 &     Facenet &     cosine &       0.40 &  complete &  3232 &  0.957660 \\\\\n",
      "6 &     ArcFace &  euclidean &       4.15 &      ward &  4080 &  0.952532 \\\\\n",
      "7 &     ArcFace &     cosine &       0.68 &  complete &  2479 &  0.950567 \\\\\n",
      "8 &     Facenet &  euclidean &      10.00 &   average &  3078 &  0.946966 \\\\\n",
      "9 &  Facenet512 &  euclidean &      23.56 &  complete &  2515 &  0.942601 \\\\\n",
      "\\bottomrule\n",
      "\\end{tabular}\n",
      "\n"
     ]
    },
    {
     "name": "stderr",
     "output_type": "stream",
     "text": [
      "/tmp/ipykernel_24695/2035841072.py:1: FutureWarning: In future versions `DataFrame.to_latex` is expected to utilise the base implementation of `Styler.to_latex` for formatting and rendering. The arguments signature may therefore change. It is recommended instead to use `DataFrame.style.to_latex` which also contains additional functionality.\n",
      "  print(df_results.sort_values(by=\"DIAM\", ascending=False).reset_index()[[\"model_name\", \"affinity\", \"threshold\", \"linkage\", \"#PC\", \"WAIC\", \"DIAM\", \"#identities\", \"PC_per_identity_mean\", \"PC_per_identity_max\"]][:10].to_latex(columns=[\"model_name\", \"affinity\", \"threshold\", \"linkage\", \"#PC\", \"DIAM\"]))\n"
     ]
    }
   ],
   "source": [
    "print(df_results.sort_values(by=\"DIAM\", ascending=False).reset_index()[[\"model_name\", \"affinity\", \"threshold\", \"linkage\", \"#PC\", \"WAIC\", \"DIAM\", \"#identities\", \"PC_per_identity_mean\", \"PC_per_identity_max\"]][:10].to_latex(columns=[\"model_name\", \"affinity\", \"threshold\", \"linkage\", \"#PC\", \"DIAM\"]))"
   ]
  },
  {
   "cell_type": "code",
   "execution_count": 10,
   "metadata": {},
   "outputs": [
    {
     "name": "stdout",
     "output_type": "stream",
     "text": [
      "\\begin{tabular}{lrrrr}\n",
      "\\toprule\n",
      "{} &      WAIC &  \\#identities &  PC\\_per\\_identity\\_mean &  PC\\_per\\_identity\\_max \\\\\n",
      "\\midrule\n",
      "0 &  1.013968 &         1680 &              2.386905 &                   71 \\\\\n",
      "1 &  1.037756 &         1673 &              2.027496 &                   32 \\\\\n",
      "2 &  1.076713 &         1665 &              1.759760 &                   58 \\\\\n",
      "3 &  1.096901 &         1670 &              2.435329 &                   95 \\\\\n",
      "4 &  1.145024 &         1669 &              2.281007 &                   56 \\\\\n",
      "5 &  1.106395 &         1656 &              1.951691 &                   32 \\\\\n",
      "6 &  1.185181 &         1670 &              2.443114 &                  126 \\\\\n",
      "7 &  1.426233 &         1626 &              1.524600 &                   17 \\\\\n",
      "8 &  2.042449 &         1635 &              1.882569 &                   16 \\\\\n",
      "9 &  1.196093 &         1596 &              1.575815 &                   22 \\\\\n",
      "\\bottomrule\n",
      "\\end{tabular}\n",
      "\n"
     ]
    },
    {
     "name": "stderr",
     "output_type": "stream",
     "text": [
      "/tmp/ipykernel_24695/2035400723.py:1: FutureWarning: In future versions `DataFrame.to_latex` is expected to utilise the base implementation of `Styler.to_latex` for formatting and rendering. The arguments signature may therefore change. It is recommended instead to use `DataFrame.style.to_latex` which also contains additional functionality.\n",
      "  print(df_results.sort_values(by=\"DIAM\", ascending=False).reset_index()[[\"model_name\", \"affinity\", \"threshold\", \"linkage\", \"#PC\", \"WAIC\", \"DIAM\", \"#identities\", \"PC_per_identity_mean\", \"PC_per_identity_max\"]][:10].to_latex(columns=[\"WAIC\", \"#identities\", \"PC_per_identity_mean\", \"PC_per_identity_max\"]))\n"
     ]
    }
   ],
   "source": [
    "print(df_results.sort_values(by=\"DIAM\", ascending=False).reset_index()[[\"model_name\", \"affinity\", \"threshold\", \"linkage\", \"#PC\", \"WAIC\", \"DIAM\", \"#identities\", \"PC_per_identity_mean\", \"PC_per_identity_max\"]][:10].to_latex(columns=[\"WAIC\", \"#identities\", \"PC_per_identity_mean\", \"PC_per_identity_max\"]))"
   ]
  },
  {
   "cell_type": "code",
   "execution_count": 11,
   "metadata": {},
   "outputs": [
    {
     "data": {
      "text/html": [
       "<div>\n",
       "<style scoped>\n",
       "    .dataframe tbody tr th:only-of-type {\n",
       "        vertical-align: middle;\n",
       "    }\n",
       "\n",
       "    .dataframe tbody tr th {\n",
       "        vertical-align: top;\n",
       "    }\n",
       "\n",
       "    .dataframe thead th {\n",
       "        text-align: right;\n",
       "    }\n",
       "</style>\n",
       "<table border=\"1\" class=\"dataframe\">\n",
       "  <thead>\n",
       "    <tr style=\"text-align: right;\">\n",
       "      <th></th>\n",
       "      <th>model_name</th>\n",
       "      <th>affinity</th>\n",
       "      <th>threshold</th>\n",
       "      <th>linkage</th>\n",
       "      <th>#PC</th>\n",
       "      <th>WAIC</th>\n",
       "      <th>DIAM</th>\n",
       "      <th>#identities</th>\n",
       "      <th>PC_per_identity_mean</th>\n",
       "      <th>PC_per_identity_max</th>\n",
       "    </tr>\n",
       "  </thead>\n",
       "  <tbody>\n",
       "    <tr>\n",
       "      <th>0</th>\n",
       "      <td>Facenet512</td>\n",
       "      <td>cosine</td>\n",
       "      <td>0.30</td>\n",
       "      <td>complete</td>\n",
       "      <td>4010</td>\n",
       "      <td>1.013968</td>\n",
       "      <td>0.993671</td>\n",
       "      <td>1680</td>\n",
       "      <td>2.386905</td>\n",
       "      <td>71</td>\n",
       "    </tr>\n",
       "    <tr>\n",
       "      <th>1</th>\n",
       "      <td>Facenet512</td>\n",
       "      <td>cosine</td>\n",
       "      <td>0.30</td>\n",
       "      <td>average</td>\n",
       "      <td>3392</td>\n",
       "      <td>1.037756</td>\n",
       "      <td>0.991707</td>\n",
       "      <td>1673</td>\n",
       "      <td>2.027496</td>\n",
       "      <td>32</td>\n",
       "    </tr>\n",
       "    <tr>\n",
       "      <th>3</th>\n",
       "      <td>Facenet512</td>\n",
       "      <td>euclidean</td>\n",
       "      <td>23.56</td>\n",
       "      <td>ward</td>\n",
       "      <td>2930</td>\n",
       "      <td>1.076713</td>\n",
       "      <td>0.971628</td>\n",
       "      <td>1665</td>\n",
       "      <td>1.759760</td>\n",
       "      <td>58</td>\n",
       "    </tr>\n",
       "    <tr>\n",
       "      <th>3</th>\n",
       "      <td>Facenet</td>\n",
       "      <td>euclidean</td>\n",
       "      <td>10.00</td>\n",
       "      <td>ward</td>\n",
       "      <td>4067</td>\n",
       "      <td>1.096901</td>\n",
       "      <td>0.967481</td>\n",
       "      <td>1670</td>\n",
       "      <td>2.435329</td>\n",
       "      <td>95</td>\n",
       "    </tr>\n",
       "    <tr>\n",
       "      <th>4</th>\n",
       "      <td>Facenet</td>\n",
       "      <td>euclidean</td>\n",
       "      <td>10.00</td>\n",
       "      <td>complete</td>\n",
       "      <td>3807</td>\n",
       "      <td>1.145024</td>\n",
       "      <td>0.963990</td>\n",
       "      <td>1669</td>\n",
       "      <td>2.281007</td>\n",
       "      <td>56</td>\n",
       "    </tr>\n",
       "    <tr>\n",
       "      <th>0</th>\n",
       "      <td>Facenet</td>\n",
       "      <td>cosine</td>\n",
       "      <td>0.40</td>\n",
       "      <td>complete</td>\n",
       "      <td>3232</td>\n",
       "      <td>1.106395</td>\n",
       "      <td>0.957660</td>\n",
       "      <td>1656</td>\n",
       "      <td>1.951691</td>\n",
       "      <td>32</td>\n",
       "    </tr>\n",
       "    <tr>\n",
       "      <th>3</th>\n",
       "      <td>ArcFace</td>\n",
       "      <td>euclidean</td>\n",
       "      <td>4.15</td>\n",
       "      <td>ward</td>\n",
       "      <td>4080</td>\n",
       "      <td>1.185181</td>\n",
       "      <td>0.952532</td>\n",
       "      <td>1670</td>\n",
       "      <td>2.443114</td>\n",
       "      <td>126</td>\n",
       "    </tr>\n",
       "    <tr>\n",
       "      <th>0</th>\n",
       "      <td>ArcFace</td>\n",
       "      <td>cosine</td>\n",
       "      <td>0.68</td>\n",
       "      <td>complete</td>\n",
       "      <td>2479</td>\n",
       "      <td>1.426233</td>\n",
       "      <td>0.950567</td>\n",
       "      <td>1626</td>\n",
       "      <td>1.524600</td>\n",
       "      <td>17</td>\n",
       "    </tr>\n",
       "    <tr>\n",
       "      <th>5</th>\n",
       "      <td>Facenet</td>\n",
       "      <td>euclidean</td>\n",
       "      <td>10.00</td>\n",
       "      <td>average</td>\n",
       "      <td>3078</td>\n",
       "      <td>2.042449</td>\n",
       "      <td>0.946966</td>\n",
       "      <td>1635</td>\n",
       "      <td>1.882569</td>\n",
       "      <td>16</td>\n",
       "    </tr>\n",
       "    <tr>\n",
       "      <th>4</th>\n",
       "      <td>Facenet512</td>\n",
       "      <td>euclidean</td>\n",
       "      <td>23.56</td>\n",
       "      <td>complete</td>\n",
       "      <td>2515</td>\n",
       "      <td>1.196093</td>\n",
       "      <td>0.942601</td>\n",
       "      <td>1596</td>\n",
       "      <td>1.575815</td>\n",
       "      <td>22</td>\n",
       "    </tr>\n",
       "  </tbody>\n",
       "</table>\n",
       "</div>"
      ],
      "text/plain": [
       "   model_name   affinity  threshold   linkage   #PC      WAIC      DIAM  \\\n",
       "0  Facenet512     cosine       0.30  complete  4010  1.013968  0.993671   \n",
       "1  Facenet512     cosine       0.30   average  3392  1.037756  0.991707   \n",
       "3  Facenet512  euclidean      23.56      ward  2930  1.076713  0.971628   \n",
       "3     Facenet  euclidean      10.00      ward  4067  1.096901  0.967481   \n",
       "4     Facenet  euclidean      10.00  complete  3807  1.145024  0.963990   \n",
       "0     Facenet     cosine       0.40  complete  3232  1.106395  0.957660   \n",
       "3     ArcFace  euclidean       4.15      ward  4080  1.185181  0.952532   \n",
       "0     ArcFace     cosine       0.68  complete  2479  1.426233  0.950567   \n",
       "5     Facenet  euclidean      10.00   average  3078  2.042449  0.946966   \n",
       "4  Facenet512  euclidean      23.56  complete  2515  1.196093  0.942601   \n",
       "\n",
       "   #identities  PC_per_identity_mean  PC_per_identity_max  \n",
       "0         1680              2.386905                   71  \n",
       "1         1673              2.027496                   32  \n",
       "3         1665              1.759760                   58  \n",
       "3         1670              2.435329                   95  \n",
       "4         1669              2.281007                   56  \n",
       "0         1656              1.951691                   32  \n",
       "3         1670              2.443114                  126  \n",
       "0         1626              1.524600                   17  \n",
       "5         1635              1.882569                   16  \n",
       "4         1596              1.575815                   22  "
      ]
     },
     "execution_count": 11,
     "metadata": {},
     "output_type": "execute_result"
    }
   ],
   "source": [
    "df_results.sort_values(by=\"DIAM\", ascending=False)[[\"model_name\", \"affinity\", \"threshold\", \"linkage\", \"#PC\", \"WAIC\", \"DIAM\", \"#identities\", \"PC_per_identity_mean\", \"PC_per_identity_max\"]][:10]"
   ]
  },
  {
   "cell_type": "markdown",
   "metadata": {},
   "source": [
    "# DBSCAN results"
   ]
  },
  {
   "cell_type": "code",
   "execution_count": 12,
   "metadata": {},
   "outputs": [],
   "source": [
    "models = [\n",
    "    \"SFace\",\n",
    "    \"Facenet\",\n",
    "    \"Facenet512\",\n",
    "    \"VGG-Face\",\n",
    "    \"OpenFace\",\n",
    "    \"DeepFace\",\n",
    "    \"DeepID\",\n",
    "    \"Dlib\",\n",
    "    \"ArcFace\",\n",
    "]"
   ]
  },
  {
   "cell_type": "code",
   "execution_count": 13,
   "metadata": {},
   "outputs": [],
   "source": [
    "# loop over all model and add the results to a dataframe\n",
    "df_results = pd.DataFrame()\n",
    "for model in models:\n",
    "    df = pd.read_csv(f\"../lfw_people_benchmark/results_dbscan/{model}_results.csv\")\n",
    "    df[\"model\"] = model\n",
    "    df_results = pd.concat([df_results, df])\n",
    "\n",
    "# rename nb_identities to #identities\n",
    "df_results = df_results.rename(columns={\"nb_identities\": \"#identities\"})\n",
    "\n",
    "# rename dist_dominant_mean to PC_per_identity_mean\n",
    "df_results = df_results.rename(columns={\"dist_dominant_mean\": \"PC_per_identity_mean\"})\n",
    "\n",
    "# rename dist_dominant_max to PC_per_identity_max\n",
    "df_results = df_results.rename(columns={\"dist_dominant_max\": \"PC_per_identity_max\"})"
   ]
  },
  {
   "cell_type": "code",
   "execution_count": 14,
   "metadata": {},
   "outputs": [
    {
     "data": {
      "text/plain": [
       "1680"
      ]
     },
     "execution_count": 14,
     "metadata": {},
     "output_type": "execute_result"
    }
   ],
   "source": [
    "expected_nb_cluster = 5749 - 4069\n",
    "expected_nb_cluster"
   ]
  },
  {
   "cell_type": "code",
   "execution_count": 15,
   "metadata": {},
   "outputs": [],
   "source": [
    "df_results[\"diff_#PC\"] = (df_results[\"#PC\"] - expected_nb_cluster).abs()"
   ]
  },
  {
   "cell_type": "code",
   "execution_count": 16,
   "metadata": {},
   "outputs": [
    {
     "data": {
      "text/html": [
       "<div>\n",
       "<style scoped>\n",
       "    .dataframe tbody tr th:only-of-type {\n",
       "        vertical-align: middle;\n",
       "    }\n",
       "\n",
       "    .dataframe tbody tr th {\n",
       "        vertical-align: top;\n",
       "    }\n",
       "\n",
       "    .dataframe thead th {\n",
       "        text-align: right;\n",
       "    }\n",
       "</style>\n",
       "<table border=\"1\" class=\"dataframe\">\n",
       "  <thead>\n",
       "    <tr style=\"text-align: right;\">\n",
       "      <th></th>\n",
       "      <th>model_name</th>\n",
       "      <th>distance_metric</th>\n",
       "      <th>threshold</th>\n",
       "      <th>min_samples</th>\n",
       "      <th>#PC</th>\n",
       "      <th>WAIC</th>\n",
       "      <th>DIAM</th>\n",
       "      <th>#identities</th>\n",
       "      <th>PC_per_identity_mean</th>\n",
       "      <th>PC_per_identity_max</th>\n",
       "    </tr>\n",
       "  </thead>\n",
       "  <tbody>\n",
       "    <tr>\n",
       "      <th>0</th>\n",
       "      <td>Facenet512</td>\n",
       "      <td>cosine</td>\n",
       "      <td>0.30</td>\n",
       "      <td>2</td>\n",
       "      <td>808</td>\n",
       "      <td>401.402226</td>\n",
       "      <td>0.371454</td>\n",
       "      <td>778</td>\n",
       "      <td>1.038560</td>\n",
       "      <td>3</td>\n",
       "    </tr>\n",
       "    <tr>\n",
       "      <th>1</th>\n",
       "      <td>Facenet512</td>\n",
       "      <td>cosine</td>\n",
       "      <td>0.30</td>\n",
       "      <td>3</td>\n",
       "      <td>404</td>\n",
       "      <td>510.672196</td>\n",
       "      <td>0.287756</td>\n",
       "      <td>400</td>\n",
       "      <td>1.010000</td>\n",
       "      <td>2</td>\n",
       "    </tr>\n",
       "    <tr>\n",
       "      <th>2</th>\n",
       "      <td>Facenet512</td>\n",
       "      <td>cosine</td>\n",
       "      <td>0.30</td>\n",
       "      <td>4</td>\n",
       "      <td>251</td>\n",
       "      <td>601.977957</td>\n",
       "      <td>0.244762</td>\n",
       "      <td>249</td>\n",
       "      <td>1.008032</td>\n",
       "      <td>2</td>\n",
       "    </tr>\n",
       "    <tr>\n",
       "      <th>3</th>\n",
       "      <td>Facenet512</td>\n",
       "      <td>cosine</td>\n",
       "      <td>0.30</td>\n",
       "      <td>5</td>\n",
       "      <td>170</td>\n",
       "      <td>674.987342</td>\n",
       "      <td>0.222938</td>\n",
       "      <td>170</td>\n",
       "      <td>1.000000</td>\n",
       "      <td>1</td>\n",
       "    </tr>\n",
       "    <tr>\n",
       "      <th>4</th>\n",
       "      <td>Facenet</td>\n",
       "      <td>euclidean</td>\n",
       "      <td>10.00</td>\n",
       "      <td>2</td>\n",
       "      <td>390</td>\n",
       "      <td>1040.804780</td>\n",
       "      <td>0.179398</td>\n",
       "      <td>384</td>\n",
       "      <td>1.015625</td>\n",
       "      <td>3</td>\n",
       "    </tr>\n",
       "    <tr>\n",
       "      <th>5</th>\n",
       "      <td>Facenet</td>\n",
       "      <td>euclidean</td>\n",
       "      <td>10.00</td>\n",
       "      <td>3</td>\n",
       "      <td>178</td>\n",
       "      <td>1076.322130</td>\n",
       "      <td>0.135312</td>\n",
       "      <td>178</td>\n",
       "      <td>1.000000</td>\n",
       "      <td>1</td>\n",
       "    </tr>\n",
       "    <tr>\n",
       "      <th>6</th>\n",
       "      <td>Facenet</td>\n",
       "      <td>euclidean</td>\n",
       "      <td>10.00</td>\n",
       "      <td>4</td>\n",
       "      <td>105</td>\n",
       "      <td>1073.383893</td>\n",
       "      <td>0.114033</td>\n",
       "      <td>104</td>\n",
       "      <td>1.009615</td>\n",
       "      <td>2</td>\n",
       "    </tr>\n",
       "    <tr>\n",
       "      <th>7</th>\n",
       "      <td>Facenet</td>\n",
       "      <td>euclidean</td>\n",
       "      <td>10.00</td>\n",
       "      <td>5</td>\n",
       "      <td>66</td>\n",
       "      <td>1069.942492</td>\n",
       "      <td>0.103448</td>\n",
       "      <td>66</td>\n",
       "      <td>1.000000</td>\n",
       "      <td>1</td>\n",
       "    </tr>\n",
       "    <tr>\n",
       "      <th>8</th>\n",
       "      <td>OpenFace</td>\n",
       "      <td>cosine</td>\n",
       "      <td>0.10</td>\n",
       "      <td>2</td>\n",
       "      <td>217</td>\n",
       "      <td>1293.644151</td>\n",
       "      <td>0.086862</td>\n",
       "      <td>170</td>\n",
       "      <td>1.276471</td>\n",
       "      <td>11</td>\n",
       "    </tr>\n",
       "    <tr>\n",
       "      <th>9</th>\n",
       "      <td>ArcFace</td>\n",
       "      <td>euclidean</td>\n",
       "      <td>4.15</td>\n",
       "      <td>2</td>\n",
       "      <td>113</td>\n",
       "      <td>1430.174051</td>\n",
       "      <td>0.084024</td>\n",
       "      <td>113</td>\n",
       "      <td>1.000000</td>\n",
       "      <td>1</td>\n",
       "    </tr>\n",
       "  </tbody>\n",
       "</table>\n",
       "</div>"
      ],
      "text/plain": [
       "   model_name distance_metric  threshold  min_samples  #PC         WAIC  \\\n",
       "0  Facenet512          cosine       0.30            2  808   401.402226   \n",
       "1  Facenet512          cosine       0.30            3  404   510.672196   \n",
       "2  Facenet512          cosine       0.30            4  251   601.977957   \n",
       "3  Facenet512          cosine       0.30            5  170   674.987342   \n",
       "4     Facenet       euclidean      10.00            2  390  1040.804780   \n",
       "5     Facenet       euclidean      10.00            3  178  1076.322130   \n",
       "6     Facenet       euclidean      10.00            4  105  1073.383893   \n",
       "7     Facenet       euclidean      10.00            5   66  1069.942492   \n",
       "8    OpenFace          cosine       0.10            2  217  1293.644151   \n",
       "9     ArcFace       euclidean       4.15            2  113  1430.174051   \n",
       "\n",
       "       DIAM  #identities  PC_per_identity_mean  PC_per_identity_max  \n",
       "0  0.371454          778              1.038560                    3  \n",
       "1  0.287756          400              1.010000                    2  \n",
       "2  0.244762          249              1.008032                    2  \n",
       "3  0.222938          170              1.000000                    1  \n",
       "4  0.179398          384              1.015625                    3  \n",
       "5  0.135312          178              1.000000                    1  \n",
       "6  0.114033          104              1.009615                    2  \n",
       "7  0.103448           66              1.000000                    1  \n",
       "8  0.086862          170              1.276471                   11  \n",
       "9  0.084024          113              1.000000                    1  "
      ]
     },
     "execution_count": 16,
     "metadata": {},
     "output_type": "execute_result"
    }
   ],
   "source": [
    "df_results.sort_values(by=\"DIAM\", ascending=False).reset_index()[[\"model_name\", \"distance_metric\", \"threshold\", \"min_samples\", \"#PC\", \"WAIC\", \"DIAM\", \"#identities\", \"PC_per_identity_mean\", \"PC_per_identity_max\"]][:10]"
   ]
  },
  {
   "cell_type": "code",
   "execution_count": 17,
   "metadata": {},
   "outputs": [
    {
     "name": "stdout",
     "output_type": "stream",
     "text": [
      "\\begin{tabular}{lllrrrr}\n",
      "\\toprule\n",
      "{} &  model\\_name & distance\\_metric &  threshold &  min\\_samples &  \\#PC &      DIAM \\\\\n",
      "\\midrule\n",
      "0 &  Facenet512 &          cosine &       0.30 &            2 &  808 &  0.371454 \\\\\n",
      "1 &  Facenet512 &          cosine &       0.30 &            3 &  404 &  0.287756 \\\\\n",
      "2 &  Facenet512 &          cosine &       0.30 &            4 &  251 &  0.244762 \\\\\n",
      "3 &  Facenet512 &          cosine &       0.30 &            5 &  170 &  0.222938 \\\\\n",
      "4 &     Facenet &       euclidean &      10.00 &            2 &  390 &  0.179398 \\\\\n",
      "5 &     Facenet &       euclidean &      10.00 &            3 &  178 &  0.135312 \\\\\n",
      "6 &     Facenet &       euclidean &      10.00 &            4 &  105 &  0.114033 \\\\\n",
      "7 &     Facenet &       euclidean &      10.00 &            5 &   66 &  0.103448 \\\\\n",
      "8 &    OpenFace &          cosine &       0.10 &            2 &  217 &  0.086862 \\\\\n",
      "9 &     ArcFace &       euclidean &       4.15 &            2 &  113 &  0.084024 \\\\\n",
      "\\bottomrule\n",
      "\\end{tabular}\n",
      "\n"
     ]
    },
    {
     "name": "stderr",
     "output_type": "stream",
     "text": [
      "/tmp/ipykernel_24695/3814400767.py:1: FutureWarning: In future versions `DataFrame.to_latex` is expected to utilise the base implementation of `Styler.to_latex` for formatting and rendering. The arguments signature may therefore change. It is recommended instead to use `DataFrame.style.to_latex` which also contains additional functionality.\n",
      "  print(df_results.sort_values(by=\"DIAM\", ascending=False).reset_index()[[\"model_name\", \"distance_metric\", \"threshold\", \"min_samples\", \"#PC\", \"WAIC\", \"DIAM\", \"#identities\", \"PC_per_identity_mean\", \"PC_per_identity_max\"]][:10].to_latex(columns=[\"model_name\", \"distance_metric\", \"threshold\", \"min_samples\", \"#PC\", \"DIAM\"]))\n"
     ]
    }
   ],
   "source": [
    "print(df_results.sort_values(by=\"DIAM\", ascending=False).reset_index()[[\"model_name\", \"distance_metric\", \"threshold\", \"min_samples\", \"#PC\", \"WAIC\", \"DIAM\", \"#identities\", \"PC_per_identity_mean\", \"PC_per_identity_max\"]][:10].to_latex(columns=[\"model_name\", \"distance_metric\", \"threshold\", \"min_samples\", \"#PC\", \"DIAM\"]))"
   ]
  },
  {
   "cell_type": "code",
   "execution_count": 18,
   "metadata": {},
   "outputs": [
    {
     "name": "stdout",
     "output_type": "stream",
     "text": [
      "\\begin{tabular}{lrrrr}\n",
      "\\toprule\n",
      "{} &         WAIC &  \\#identities &  PC\\_per\\_identity\\_mean &  PC\\_per\\_identity\\_max \\\\\n",
      "\\midrule\n",
      "0 &   401.402226 &          778 &              1.038560 &                    3 \\\\\n",
      "1 &   510.672196 &          400 &              1.010000 &                    2 \\\\\n",
      "2 &   601.977957 &          249 &              1.008032 &                    2 \\\\\n",
      "3 &   674.987342 &          170 &              1.000000 &                    1 \\\\\n",
      "4 &  1040.804780 &          384 &              1.015625 &                    3 \\\\\n",
      "5 &  1076.322130 &          178 &              1.000000 &                    1 \\\\\n",
      "6 &  1073.383893 &          104 &              1.009615 &                    2 \\\\\n",
      "7 &  1069.942492 &           66 &              1.000000 &                    1 \\\\\n",
      "8 &  1293.644151 &          170 &              1.276471 &                   11 \\\\\n",
      "9 &  1430.174051 &          113 &              1.000000 &                    1 \\\\\n",
      "\\bottomrule\n",
      "\\end{tabular}\n",
      "\n"
     ]
    },
    {
     "name": "stderr",
     "output_type": "stream",
     "text": [
      "/tmp/ipykernel_24695/644597478.py:1: FutureWarning: In future versions `DataFrame.to_latex` is expected to utilise the base implementation of `Styler.to_latex` for formatting and rendering. The arguments signature may therefore change. It is recommended instead to use `DataFrame.style.to_latex` which also contains additional functionality.\n",
      "  print(df_results.sort_values(by=\"DIAM\", ascending=False).reset_index()[[\"model_name\", \"distance_metric\", \"threshold\", \"min_samples\", \"#PC\", \"WAIC\", \"DIAM\", \"#identities\", \"PC_per_identity_mean\", \"PC_per_identity_max\"]][:10].to_latex(columns=[\"WAIC\", \"#identities\", \"PC_per_identity_mean\", \"PC_per_identity_max\"]))\n"
     ]
    }
   ],
   "source": [
    "print(df_results.sort_values(by=\"DIAM\", ascending=False).reset_index()[[\"model_name\", \"distance_metric\", \"threshold\", \"min_samples\", \"#PC\", \"WAIC\", \"DIAM\", \"#identities\", \"PC_per_identity_mean\", \"PC_per_identity_max\"]][:10].to_latex(columns=[\"WAIC\", \"#identities\", \"PC_per_identity_mean\", \"PC_per_identity_max\"]))"
   ]
  }
 ],
 "metadata": {
  "kernelspec": {
   "display_name": "Python 3.10.4 ('snowflakes')",
   "language": "python",
   "name": "python3"
  },
  "language_info": {
   "codemirror_mode": {
    "name": "ipython",
    "version": 3
   },
   "file_extension": ".py",
   "mimetype": "text/x-python",
   "name": "python",
   "nbconvert_exporter": "python",
   "pygments_lexer": "ipython3",
   "version": "3.10.4"
  },
  "orig_nbformat": 4,
  "vscode": {
   "interpreter": {
    "hash": "01f49e0e7f49e8c39b51c5bad5f7f78046f883f46ef3b19f9dfb3452a1233494"
   }
  }
 },
 "nbformat": 4,
 "nbformat_minor": 2
}

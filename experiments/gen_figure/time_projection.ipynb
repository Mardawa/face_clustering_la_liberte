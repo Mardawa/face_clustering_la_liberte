{
 "cells": [
  {
   "cell_type": "code",
   "execution_count": 2,
   "metadata": {},
   "outputs": [],
   "source": [
    "import pandas as pd\n",
    "import numpy as np"
   ]
  },
  {
   "cell_type": "code",
   "execution_count": 3,
   "metadata": {},
   "outputs": [],
   "source": [
    "nb_base_images = 159_109 \n",
    "nb_target_images = 1_128_811"
   ]
  },
  {
   "cell_type": "code",
   "execution_count": 34,
   "metadata": {},
   "outputs": [
    {
     "name": "stdout",
     "output_type": "stream",
     "text": [
      "Extracting the faces: 362443s (101h)\n",
      "Extracting the faces time per image: 0.3211s\n",
      "4420900 faces detected in 1128811 images\n",
      "Filtering the faces: 86957s (24h)\n",
      "Filtering the faces time per face: 0.0197s\n",
      "1086244 faces kept\n",
      "Embedding the faces: 47470s (13h)\n",
      "Embedding the faces time per face: 0.0437s\n"
     ]
    }
   ],
   "source": [
    "# Extracting the faces\n",
    "# 0-20k: 6503.845979811 seconds\n",
    "# 20k-40k: 7520.812467692 seconds\n",
    "# 40k-80k: 11885.485738533 seconds\n",
    "# 80k-120k: 12411.595948290997 seconds\n",
    "# 120k-159k: 12765.523602706002 seconds\n",
    "\n",
    "t_extract_base = 6503.845979811 + 7520.812467692 + 11885.485738533 + 12411.595948290997 + 12765.523602706002\n",
    "t_extract_target = (t_extract_base / nb_base_images) * nb_target_images\n",
    "print(f\"Extracting the faces: {t_extract_target:.0f}s ({t_extract_target / 3600:.0f}h)\")\n",
    "# time per image\n",
    "print(f\"Extracting the faces time per image: {t_extract_target / nb_target_images:.4f}s\")\n",
    "\n",
    "# 623_138 faces detected in 159_109 images\n",
    "nb_detected_faces_base = 623_138\n",
    "nb_detected_faces_target = (nb_detected_faces_base / nb_base_images) * nb_target_images\n",
    "print(f\"{nb_detected_faces_target:.0f} faces detected in {nb_target_images} images\")\n",
    "\n",
    "# Filtering the faces\n",
    "# 0-20k: 1723.115840385999 \n",
    "# 20k-40k: 925.0476170689981 \n",
    "# 40k-80k: 150.99022652200074 + 2728.274453348 + 1.6219710710010986\n",
    "# 80k-120k: 216.74528204299713 + 3635.6116027519965 + 2.1968325400011963\n",
    "# 120k-159k: 148.34997311999905 + 2723.296611765996 + 1.5634511829994153\n",
    "t_filtering_base = 1723.115840385999 + 925.0476170689981 + 150.99022652200074 + 2728.274453348 + 1.6219710710010986 + 216.74528204299713 + 3635.6116027519965 + 2.1968325400011963 + 148.34997311999905 + 2723.296611765996 + 1.5634511829994153\n",
    "t_filtering_target = (t_filtering_base / nb_detected_faces_base) * nb_detected_faces_target\n",
    "print(f\"Filtering the faces: {t_filtering_target:.0f}s ({t_filtering_target / 3600:.0f}h)\")\n",
    "# time per face\n",
    "print(f\"Filtering the faces time per face: {t_filtering_target / nb_detected_faces_target:.4f}s\")\n",
    "\n",
    "# 153_109 faces kept\n",
    "nb_kept_faces_base = 153_109\n",
    "nb_kept_faces_target = (nb_kept_faces_base / nb_detected_faces_base) * nb_detected_faces_target\n",
    "print(f\"{nb_kept_faces_target:.0f} faces kept\")\n",
    "\n",
    "\n",
    "# Embedding the faces\n",
    "# 0-20k: 1242.8748936770025 \n",
    "# 20k-40k: 787.5984904739998 \n",
    "# 40k-80k: 1865.9055328509985\n",
    "# 80k-120k: 1831.498055035001\n",
    "# 120k-159k: 963.1131180219963\n",
    "t_embedding_base = 1242.8748936770025 + 787.5984904739998 + 1865.9055328509985 + 1831.498055035001 + 963.1131180219963\n",
    "t_embedding_target = (t_embedding_base / nb_kept_faces_base) * nb_kept_faces_target\n",
    "print(f\"Embedding the faces: {t_embedding_target:.0f}s ({t_embedding_target / 3600:.0f}h)\")\n",
    "# time per face\n",
    "print(f\"Embedding the faces time per face: {t_embedding_target / nb_kept_faces_target:.4f}s\")"
   ]
  },
  {
   "cell_type": "code",
   "execution_count": 35,
   "metadata": {},
   "outputs": [],
   "source": [
    "df_baseline = pd.read_csv(\"time_complexity_dbscan.csv\")\n",
    "df_baseline = df_baseline.rename(columns={\"Unnamed: 0\": \"n\", \"DBSCAN\": \"time\"})\n",
    "x = df_baseline['n'].values\n",
    "y = df_baseline['time'].values\n",
    "z = np.polyfit(x, y, 2)\n",
    "p_baseline = np.poly1d(z)"
   ]
  },
  {
   "cell_type": "code",
   "execution_count": 36,
   "metadata": {},
   "outputs": [
    {
     "name": "stdout",
     "output_type": "stream",
     "text": [
      "Embedding the faces: 16836s (5h)\n"
     ]
    }
   ],
   "source": [
    "t_embdding_target = p_baseline(nb_kept_faces_target) \n",
    "print(f\"Embedding the faces: {t_embdding_target:.0f}s ({t_embdding_target / 3600:.0f}h)\")"
   ]
  },
  {
   "cell_type": "code",
   "execution_count": 37,
   "metadata": {},
   "outputs": [
    {
     "name": "stdout",
     "output_type": "stream",
     "text": [
      "Total time: 513705s (143h)\n"
     ]
    }
   ],
   "source": [
    "total_time = t_extract_target + t_filtering_target + t_embedding_target + t_embdding_target\n",
    "print(f\"Total time: {total_time:.0f}s ({total_time / 3600:.0f}h)\")"
   ]
  }
 ],
 "metadata": {
  "kernelspec": {
   "display_name": "Python 3.10.4 ('snowflakes')",
   "language": "python",
   "name": "python3"
  },
  "language_info": {
   "codemirror_mode": {
    "name": "ipython",
    "version": 3
   },
   "file_extension": ".py",
   "mimetype": "text/x-python",
   "name": "python",
   "nbconvert_exporter": "python",
   "pygments_lexer": "ipython3",
   "version": "3.10.4"
  },
  "orig_nbformat": 4,
  "vscode": {
   "interpreter": {
    "hash": "01f49e0e7f49e8c39b51c5bad5f7f78046f883f46ef3b19f9dfb3452a1233494"
   }
  }
 },
 "nbformat": 4,
 "nbformat_minor": 2
}

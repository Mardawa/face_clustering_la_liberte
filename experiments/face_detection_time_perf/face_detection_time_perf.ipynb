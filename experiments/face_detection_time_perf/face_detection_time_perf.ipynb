{
 "cells": [
  {
   "cell_type": "code",
   "execution_count": 1,
   "metadata": {},
   "outputs": [],
   "source": [
    "import pandas as pd"
   ]
  },
  {
   "cell_type": "code",
   "execution_count": 28,
   "metadata": {},
   "outputs": [],
   "source": [
    "df = pd.read_csv('face_detection_time_perf.csv', sep=';', header=None)\n",
    "df.columns = ['model', 'detection time [s]', 'nb faces', 'total time [s]']\n",
    "df = df[[\"model\", \"total time [s]\", \"detection time [s]\", \"nb faces\"]]\n",
    "\n",
    "# sort df by total time\n",
    "df = df.sort_values(by=['total time [s]'], ascending=True)\n",
    "\n",
    "df[\"total time [min]\"] = (df[\"total time [s]\"] / 60).round(2)\n",
    "df[\"detection time [min]\"] = (df[\"detection time [s]\"] / 60).round(2)\n",
    "df[\"diff [s]\"] = (df[\"total time [s]\"] - df[\"detection time [s]\"]).round(2)\n",
    "\n",
    "df_display = df[[\"model\", \"total time [min]\", \"detection time [min]\", \"diff [s]\", \"nb faces\"]].copy()\n"
   ]
  },
  {
   "cell_type": "code",
   "execution_count": 35,
   "metadata": {},
   "outputs": [
    {
     "name": "stdout",
     "output_type": "stream",
     "text": [
      "\\begin{tabular}{lrrrr}\n",
      "\\toprule\n",
      "     model &  total time [min] &  detection time [min] &  diff [s] &  nb faces \\\\\n",
      "\\midrule\n",
      " mediapipe &              1.39 &                  0.12 &     76.19 &       181 \\\\\n",
      "       ssd &              1.53 &                  0.29 &     74.35 &       466 \\\\\n",
      "retinaface &              7.64 &                  6.31 &     79.96 &      4161 \\\\\n",
      "    opencv &             10.28 &                  9.03 &     75.35 &      2229 \\\\\n",
      "     mtcnn &             25.46 &                 24.23 &     73.79 &      5225 \\\\\n",
      "      dlib &             38.58 &                 37.41 &     70.45 &      1968 \\\\\n",
      "\\bottomrule\n",
      "\\end{tabular}\n",
      "\n"
     ]
    },
    {
     "name": "stderr",
     "output_type": "stream",
     "text": [
      "/tmp/ipykernel_154070/3868816199.py:1: FutureWarning: In future versions `DataFrame.to_latex` is expected to utilise the base implementation of `Styler.to_latex` for formatting and rendering. The arguments signature may therefore change. It is recommended instead to use `DataFrame.style.to_latex` which also contains additional functionality.\n",
      "  print(df_display.to_latex(index=False))\n"
     ]
    }
   ],
   "source": [
    "print(df_display.to_latex(index=False))"
   ]
  }
 ],
 "metadata": {
  "kernelspec": {
   "display_name": "Python 3.10.4 ('snowflakes')",
   "language": "python",
   "name": "python3"
  },
  "language_info": {
   "codemirror_mode": {
    "name": "ipython",
    "version": 3
   },
   "file_extension": ".py",
   "mimetype": "text/x-python",
   "name": "python",
   "nbconvert_exporter": "python",
   "pygments_lexer": "ipython3",
   "version": "3.10.4"
  },
  "orig_nbformat": 4,
  "vscode": {
   "interpreter": {
    "hash": "01f49e0e7f49e8c39b51c5bad5f7f78046f883f46ef3b19f9dfb3452a1233494"
   }
  }
 },
 "nbformat": 4,
 "nbformat_minor": 2
}

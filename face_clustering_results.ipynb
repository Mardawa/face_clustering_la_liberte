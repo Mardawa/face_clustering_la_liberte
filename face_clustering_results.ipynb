{
 "cells": [
  {
   "cell_type": "code",
   "execution_count": null,
   "metadata": {},
   "outputs": [],
   "source": [
    "import pathlib\n",
    "import pandas as pd\n",
    "import numpy as np\n",
    "import matplotlib.pyplot as plt\n",
    "import cv2\n",
    "from tqdm import tqdm\n",
    "from helper.la_lib_archive import LaLibAPI\n",
    "from helper.display_cluster import show_cluster, split_ids, locate_and_plot_image, plot_overview_cluster\n",
    "from deepface.commons import distance as dst\n",
    "from helper.avg_embed import get_avg_embed\n",
    "# from ast import literal_eval\n",
    "import json"
   ]
  },
  {
   "cell_type": "markdown",
   "metadata": {},
   "source": [
    "# load cluster results"
   ]
  },
  {
   "cell_type": "code",
   "execution_count": null,
   "metadata": {},
   "outputs": [],
   "source": [
    "base_path = pathlib.Path(\"/media/bao/t7/la_lib_dataset\")\n",
    "\n",
    "\n",
    "src_folder = base_path / \"img\"\n",
    "faces_folder = base_path / \"faces\"\n",
    "df_folder = base_path / \"160k\" /\"res\"\n",
    "\n",
    "model_name=\"Facenet512\"\n",
    "\n",
    "# ==================== DBSCAN ====================\n",
    "clustering_algo = \"DBSCAN\"\n",
    "min_samples = 3\n",
    "threshold = 0.1925\n",
    "cluster_path = df_folder / f\"cluster_{model_name}_{clustering_algo}_cosine_{min_samples}_{threshold}.csv\"\n",
    "\n",
    "# ==================== AHC ====================\n",
    "# clustering_algo = \"AHC\"\n",
    "# linkage = \"average\"\n",
    "# threshold = 0.3\n",
    "# cluster_path = df_folder /\n",
    "# f\"cluster_{model_name}_{clustering_algo}_cosine_{linkage}_{threshold}.csv\"\n",
    "\n",
    "# ==================== CUSTOM ====================\n",
    "# cluster_path = pathlib.Path(\"/media/bao/t7/la_lib_dataset/results_dbscan_ahc/df/cluster_Facenet512_AHC_cosine_average_0.31.csv\")\n",
    "\n",
    "df = pd.read_csv(cluster_path, usecols=[\"image\", \"cluster_label\"])\n",
    "\n",
    "# convert image to face_id \n",
    "df[\"face_id\"] = df[\"image\"].apply(pathlib.Path).apply(lambda x: x.stem)\n",
    "\n",
    "df[\"cluster_label\"].value_counts()"
   ]
  },
  {
   "cell_type": "code",
   "execution_count": null,
   "metadata": {},
   "outputs": [],
   "source": [
    "model_name = \"Facenet512\"\n",
    "\n",
    "# load the embeddings \n",
    "df_embeddings = pd.read_csv(base_path / \"160k\" /\"df\"/\"keep_representation_Facenet512.csv\", index_col=0, converters={f\"{model_name}_representation\": json.loads})\n",
    "\n",
    "# left merge df and df_embeddings on image\n",
    "df = df.merge(df_embeddings[[\"image\", \"Facenet512_representation\"]], on=\"image\", how=\"left\")\n",
    "\n",
    "df_avg_embed_512 = get_avg_embed(df, \"Facenet512\", \"cluster_label\")\n",
    "\n",
    "df = df.merge(df_avg_embed_512, left_on=\"cluster_label\", right_on=\"cluster_label\", how='left')\n",
    "\n",
    "def calc_dst_to_mean(row):\n",
    "    # check if the row is outlier\n",
    "    if row[\"cluster_label\"] == -1:\n",
    "        return np.NaN\n",
    "    return dst.findCosineDistance(row[\"avg_Facenet512_representation\"], row[\"Facenet512_representation\"])\n",
    "\n",
    "df[\"dst_to_mean\"] = df.apply(calc_dst_to_mean, axis=1)\n",
    "\n",
    "# sort by dst_to_mean\n",
    "df = df.sort_values(by=\"dst_to_mean\", ascending=True)\n",
    "\n",
    "# title = face_id + dst_to_mean (4 decimal places)\n",
    "df[\"title\"] = df[\"face_id\"] + \" \\n \" + df[\"dst_to_mean\"].apply(lambda x: f\"{x:.4f}\")"
   ]
  },
  {
   "cell_type": "markdown",
   "metadata": {},
   "source": [
    "# Distribution"
   ]
  },
  {
   "cell_type": "code",
   "execution_count": null,
   "metadata": {},
   "outputs": [],
   "source": [
    "df[\"cluster_label\"].nunique()"
   ]
  },
  {
   "cell_type": "code",
   "execution_count": null,
   "metadata": {},
   "outputs": [],
   "source": [
    "# plot with log scale\n",
    "fig, ax = plt.subplots(figsize=(25, 5))\n",
    "df[\"cluster_label\"].value_counts().plot(kind=\"bar\", logy=True, ax=ax)"
   ]
  },
  {
   "cell_type": "code",
   "execution_count": null,
   "metadata": {},
   "outputs": [],
   "source": [
    "fig, ax = plt.subplots(figsize=(15, 5))\n",
    "# arr with red, red then only blue (use the default blue color from sns)\n",
    "color = [\"#1F77B4\"] * 50 + [\"red\"] * 2\n",
    "df[\"cluster_label\"].value_counts().value_counts().sort_index(ascending=True).plot(kind=\"bar\", logy=True, ax=ax, color=color)\n",
    "\n",
    "# xlabel = number of faces\n",
    "ax.set_xlabel(\"Number of faces\")\n",
    "# ylabel = number of identities\n",
    "ax.set_ylabel(\"Number of identities (log scale)\")"
   ]
  },
  {
   "cell_type": "code",
   "execution_count": null,
   "metadata": {},
   "outputs": [],
   "source": [
    "# get the number of outliers\n",
    "df[\"cluster_label\"].value_counts().loc[-1], df[\"cluster_label\"].value_counts().loc[2]"
   ]
  },
  {
   "cell_type": "markdown",
   "metadata": {},
   "source": [
    "# Overview"
   ]
  },
  {
   "cell_type": "code",
   "execution_count": null,
   "metadata": {},
   "outputs": [],
   "source": [
    "plot_overview_cluster(df, faces_folder, offset=2, nrow=25, ncol=31)"
   ]
  },
  {
   "cell_type": "code",
   "execution_count": null,
   "metadata": {},
   "outputs": [],
   "source": [
    "# etchebest\n",
    "# ['1LDNdHxXKwOBaSrUcwBLF5',\n",
    "#  '8B2JIIct4sOABC1Qyc_ov4',\n",
    "#  '10vEpFSAKiv8JZImfyga_p',\n",
    "#  '0rP6rTXqqks9_UDLZIIrlS',\n",
    "#  '6uNZ74P2qNe8T5atZ_aR9l']\n",
    "id = \"1LDNdHxXKwOBaSrUcwBLF5\"\n",
    "ids, _ = locate_and_plot_image(df=df, image_id=id, faces_folder=faces_folder, originals_folder=src_folder, limit=100, ncol=4, show_original=True, plot=True, save_folder = None, hide_axis=False, title_col = None, marked = [])"
   ]
  },
  {
   "cell_type": "code",
   "execution_count": null,
   "metadata": {},
   "outputs": [],
   "source": [
    "# raph\n",
    "# ['7E6yi9brajIBdv-EUFajQ4',\n",
    "#  '1hTWU2no4l7BjaUR2HHMGS',\n",
    "#  '1kE6DJ0KqZ89E9CzI5XOFC',\n",
    "#  '7mxK31KZaQ2BwfIdC7VFUz',\n",
    "#  'E2VNmfrE4519blrhQrH20J']\n",
    "# id = \"7E6yi9brajIBdv-EUFajQ4\"\n",
    "# ids, _ = locate_and_plot_image(df=df, image_id=id, faces_folder=faces_folder, originals_folder=src_folder, limit=100, ncol=4, show_original=True, plot=True, save_folder = None, hide_axis=False, title_col = None, marked = [])"
   ]
  },
  {
   "cell_type": "code",
   "execution_count": null,
   "metadata": {},
   "outputs": [],
   "source": [
    "# Mathilde gremaud \n",
    "# 'C45OEyke4AHAXbg7-foqSK',\n",
    "#  '7_1iQDuWKit9FVl79WgarE',\n",
    "#  '0A5OSVj4aosB2W77fVoO7k',\n",
    "#  '7dV3qjs54ct8j_Vd2N2bsC',\n",
    "#  'AzPPBqFhq9Y9KnSTdZdwWB'\n",
    "id = \"0A5OSVj4aosB2W77fVoO7k\"\n",
    "ids, _ = locate_and_plot_image(df=df, image_id=id, faces_folder=faces_folder, originals_folder=src_folder, limit=100, ncol=5, show_original=True, plot=True, save_folder = None, hide_axis=False, title_col = None, marked = [])"
   ]
  },
  {
   "cell_type": "code",
   "execution_count": null,
   "metadata": {},
   "outputs": [],
   "source": [
    "# The Queen 1wBlltV8K9m8vFaKMe2wF6\n",
    "id = \"1wBlltV8K9m8vFaKMe2wF6\"\n",
    "ids, _ = locate_and_plot_image(df=df, image_id=id, faces_folder=faces_folder, originals_folder=src_folder, limit=100, ncol=10, show_original=True, plot=True, save_folder = None, hide_axis=False, title_col = None, marked = [])"
   ]
  },
  {
   "cell_type": "code",
   "execution_count": null,
   "metadata": {},
   "outputs": [],
   "source": [
    "id = \"1Dhs2RWTK5eAjjUBHiw_m9\"\n",
    "ids = locate_and_plot_image(df=df, image_id=id, faces_folder=faces_folder, originals_folder=src_folder, limit=100, ncol=10, show_original=True, plot=True, save_folder = None, hide_axis=False, title_col = \"title\", marked = [])"
   ]
  },
  {
   "cell_type": "code",
   "execution_count": null,
   "metadata": {},
   "outputs": [],
   "source": [
    "id = \"5Eegciggq6vAXmszqJFueP\"\n",
    "ids = locate_and_plot_image(df=df, image_id=id, faces_folder=faces_folder, originals_folder=src_folder, limit=100, ncol=5, show_original=True, plot=True, save_folder = None, hide_axis=False, title_col = \"title\", marked = [])"
   ]
  },
  {
   "cell_type": "code",
   "execution_count": null,
   "metadata": {},
   "outputs": [],
   "source": [
    "# The Queen 1wBlltV8K9m8vFaKMe2wF6\n",
    "id = \"1wBlltV8K9m8vFaKMe2wF6\"\n",
    "ids = locate_and_plot_image(df=df, image_id=id, faces_folder=faces_folder, originals_folder=src_folder, limit=100, ncol=5, show_original=True, plot=True, save_folder = None, hide_axis=False, title_col = \"title\", marked = [])"
   ]
  },
  {
   "cell_type": "markdown",
   "metadata": {},
   "source": [
    "# Performance"
   ]
  },
  {
   "cell_type": "code",
   "execution_count": null,
   "metadata": {},
   "outputs": [],
   "source": [
    "from helper.compare_w_reference import compare_w_ref\n",
    "\n",
    "reference_clusters_path = pathlib.Path(\"reference_clusters\")"
   ]
  },
  {
   "cell_type": "code",
   "execution_count": null,
   "metadata": {},
   "outputs": [],
   "source": [
    "total_tp, total_fn, total_fp, df_stats = compare_w_ref(reference_clusters_path, df, faces_folder=faces_folder, src_folder=src_folder)"
   ]
  },
  {
   "cell_type": "code",
   "execution_count": null,
   "metadata": {},
   "outputs": [],
   "source": [
    "total_precision = total_tp / (total_tp + total_fp)\n",
    "total_recall = total_tp / (total_tp + total_fn)\n",
    "total_f1 = 2 * (total_precision * total_recall) / (total_precision + total_recall)\n",
    "\n",
    "print(\"Total precision:\", total_precision)\n",
    "print(\"Total recall:\", total_recall)\n",
    "print(\"Total f1:\", total_f1)"
   ]
  },
  {
   "cell_type": "markdown",
   "metadata": {},
   "source": [
    "# Specific person"
   ]
  },
  {
   "cell_type": "markdown",
   "metadata": {},
   "source": [
    "* 188 Megan\n",
    "* 253 Biden"
   ]
  },
  {
   "cell_type": "code",
   "execution_count": null,
   "metadata": {},
   "outputs": [],
   "source": [
    "def get_cluster_ids(df, face_id):\n",
    "    cluster = df[df[\"face_id\"] == face_id][\"cluster_label\"].values[0]\n",
    "    return cluster\n",
    "\n",
    "def get_TP_FN_FP(ids: list[str], df: pd.DataFrame, clusterColName: str = \"cluster_label\", plot=False):\n",
    "    \"\"\"\n",
    "    Compute the true positive and false negative based on a list of ids\n",
    "\n",
    "    Args:\n",
    "        ids (list[str]): list of ids\n",
    "        df (pd.DataFrame): dataframe containing the cluster labels\n",
    "    \n",
    "    Returns:\n",
    "        TP (int): number of true positive (how many did we get right)\n",
    "        FN (int): number of false negative (how many did we miss)\n",
    "    \"\"\"\n",
    "    df_ids = pd.DataFrame(ids, columns=[\"image_id\"])\n",
    "    df_ids[\"cluster_id\"] = df_ids[\"image_id\"].apply(lambda x: get_cluster_ids(df, x))\n",
    "    val_counts = df_ids[\"cluster_id\"].value_counts().reset_index().rename(columns={\"index\": \"cluster_id\", \"cluster_id\": \"count\"})\n",
    "    tp = val_counts.iloc[0][\"count\"]\n",
    "    fn = val_counts.iloc[1:][\"count\"].sum()\n",
    "\n",
    "    dominant_cluster = val_counts.iloc[0][\"cluster_id\"]\n",
    "    ids_dom_clust, _ = show_cluster(df=df, cluster_id=dominant_cluster, faces_folder=faces_folder, originals_folder=src_folder, limit=50, ncol=10, show_original=False, plot=False, save_folder = None, hide_axis=False, title_col = None, marked = [])\n",
    "\n",
    "    # count the diff between ids_dom_clust and ids\n",
    "    diff = list(set(ids_dom_clust) - set(ids))\n",
    "    fp = len(diff)\n",
    "\n",
    "    if plot:\n",
    "        print(\"cluster\", dominant_cluster)\n",
    "        _ = show_cluster(df=df, cluster_id=dominant_cluster, faces_folder=faces_folder, originals_folder=src_folder, limit=50, ncol=10, show_original=True, plot=True, save_folder = None, hide_axis=False, title_col = None, marked = diff)\n",
    "\n",
    "    return dominant_cluster, tp, fn, fp"
   ]
  },
  {
   "cell_type": "code",
   "execution_count": null,
   "metadata": {},
   "outputs": [],
   "source": [
    "# The Queen\n",
    "ids = ['8UaM_ACpKHAB03xo4HLtAz','0T5O55a8aT29CWG_vLgdWD','58rS6m4PKRO9-7H_W66Kai','1Yed50SQ4Cd88gnL2kfWIk','5J9TDNEPa5jBJ4y2AKuxXE','4DbUxAs-qLG8gI7tISDUUm','2wrB3MShaynBKKFuMS9-6D','1ySM0jfsKFyBiaIpNEpMVs','67yu8PB3aXO8-MqjFhZDX5','BsI241yT4BJAvbec3l63AI','BSJaXCUFqs49Jl0GbUV_OX','6xsHXGHRqja8bwaufOkw3K','0v3yazdT4neAZOvif2D_8V','1wBlltV8K9m8vFaKMe2wF6','F1HZ21twaIu9vx7INUAbOd','DEh7VoZsKt18gsrBsFp7OO','8nWtpS_N4rYBMCPXM0gSXO','9hyY69Wmq5s8HBzcmbiL_P','2GwMqYpkaUp98fMjgnZRz6','2o-vhuOLqlMBzkz-gpytio','DVCMSPVK4I_8wggsHRU1xW','DVdQ8FNh4sh9CHDNAiRbNu','8MF_M3d3KmRAaVFTcoIFF2','B_2LZZFMaQc9RmFuwy9NLl','BJWQFoHtaWo8hD8RFf7FbS','AzHDkoKw4B0BReWZDk6wzW','5-2Aq0v8q_18ap5sGFGkm8','8-d9ptMh4VSAQLr7fzX4OG','0hp2cOaCK8MBUJcIe8gK5l','3tlZ9p0iaQH9tl19Q6mywh','AxXoIkMkqtXAJl-x7CMBAR','F2Rb2yV8qMb9MnJ0l4KeMy','C1GZBMIgKrq8WFHbJVyKA-','3NsKchI14qw9DaEtmCRBxo','6e1A7iCOqGF8LCOV2QoLzz']\n",
    "\n",
    "tp, fn, fp = get_TP_FN_FP(ids, df, plot=True)\n",
    "print(f\"TP: {tp}, FN: {fn}, FP: {fp}\")"
   ]
  },
  {
   "cell_type": "code",
   "execution_count": null,
   "metadata": {},
   "outputs": [],
   "source": [
    "# Charles\n",
    "ids = ['1Dhs2RWTK5eAjjUBHiw_m9','DADtOLGE4g9ATIQtb4VEcc','E9znDWxcqYW8O3CsmEHfUm','67fXS5CB4Gz82ry_GfH9fn','AGSn8sbqaaw8DsvIxNIYy6','79UF_l7MqvUA-fQrjhTqpY','DjPANPL1qhPBaO142kUwQ2']\n",
    "\n",
    "tp, fn, fp = get_TP_FN_FP(ids, df, plot=True)\n",
    "print(f\"TP: {tp}, FN: {fn}, FP: {fp}\")"
   ]
  },
  {
   "cell_type": "code",
   "execution_count": null,
   "metadata": {},
   "outputs": [],
   "source": [
    "ids = ['EQpX3n-GKwu9mJdnQKcMAg','5Eegciggq6vAXmszqJFueP','C6K2L2ZRq4o9QqZmW5VZLa','2tGZUpFQ4Nn9a7GqBw9ZJy','8EIfV-zcqyo9dTL80TAL1u','4T0MgkOJKrj8BDC1sJca9G','52rLDZ9K4c9BYk16qcNLZ0','DDnefS81aatAuxcK6Edavj','F0IiobKYKa9A4NEpck4yLN']\n",
    "\n",
    "tp, fn, fp = get_TP_FN_FP(ids, df, plot=True)\n",
    "print(f\"TP: {tp}, FN: {fn}, FP: {fp}\")"
   ]
  },
  {
   "cell_type": "code",
   "execution_count": null,
   "metadata": {},
   "outputs": [],
   "source": [
    "# Putin\n",
    "ids = ['ESz70tHEqTB9jzmv8yCCTB','AnEfZF9WqDWBW5KXSQARay','BQLjZfluaIL93R7lI5eum7','BEYGfNoXK0CBlfMDoXIL9w','4dC9y5vXK0K9o-2OB5PtA7','Cj-HOLo_aiM868dILXfmOP','6qbvODdNKAj880Y1JVQHbg','6qbvODdNKAj880Y1JVQHbg','AIYQyvhhaQ7ACS0lEeh0hq']\n",
    "\n",
    "tp, fn, fp = get_TP_FN_FP(ids, df, plot=True)\n",
    "print(f\"TP: {tp}, FN: {fn}, FP: {fp}\")"
   ]
  },
  {
   "cell_type": "markdown",
   "metadata": {},
   "source": [
    "# Performance in the references clusters"
   ]
  },
  {
   "cell_type": "markdown",
   "metadata": {},
   "source": [
    "## description of the references set"
   ]
  },
  {
   "cell_type": "code",
   "execution_count": null,
   "metadata": {},
   "outputs": [],
   "source": [
    "reference_clusters_path = pathlib.Path(\"reference_clusters\")"
   ]
  },
  {
   "cell_type": "code",
   "execution_count": null,
   "metadata": {},
   "outputs": [],
   "source": [
    "# number of unique images \n",
    "# 1 image may contain multiple person\n",
    "df_stats = pd.DataFrame(columns=[\"cluster_ref_id\", \"n_images\", \"dominant_cluster\",  \"tp\", \"fn\", \"fp\", \"precision\", \"recall\", \"f1\"])\n",
    "\n",
    "for file in reference_clusters_path.glob(\"*.json\"):\n",
    "    with open(file, 'r') as f:\n",
    "        ids = json.load(f)\n",
    "\n",
    "    # performance stats\n",
    "    dominant_cluster, tp, fn, fp = get_TP_FN_FP(ids, df, plot=False)\n",
    "\n",
    "    precision = tp / (tp + fp)\n",
    "    recall = tp / (tp + fn)\n",
    "    f1 = 2 * (precision * recall) / (precision + recall)\n",
    "\n",
    "    # general stats\n",
    "    cluster_id = file.stem.split(\"_\")[-1]\n",
    "    length = len(ids)\n",
    "    df_stats = pd.concat([df_stats, pd.DataFrame([[cluster_id, length, dominant_cluster, tp, fn, fp, precision, recall, f1]], columns=[\"cluster_ref_id\", \"n_images\", \"dominant_cluster\", \"tp\", \"fn\", \"fp\", \"precision\", \"recall\", \"f1\"])])\n",
    "    # break\n",
    "\n",
    "print(\"Number of identities:\", len(list(reference_clusters_path.glob(\"*\"))))\n",
    "print(\"Number of faces:\", df_stats[\"n_images\"].sum())"
   ]
  },
  {
   "cell_type": "code",
   "execution_count": null,
   "metadata": {},
   "outputs": [],
   "source": [
    "total_tp = df_stats[\"tp\"].sum()\n",
    "total_fn = df_stats[\"fn\"].sum()\n",
    "total_fp = df_stats[\"fp\"].sum()\n",
    "\n",
    "total_precision = total_tp / (total_tp + total_fp)\n",
    "total_recall = total_tp / (total_tp + total_fn)\n",
    "total_f1 = 2 * (total_precision * total_recall) / (total_precision + total_recall)\n",
    "\n",
    "print(f\"Total TP: {total_tp}, Total FN: {total_fn}, Total FP: {total_fp}\")\n",
    "print(f\"Total precision: {total_precision}, Total recall: {total_recall}, Total F1: {total_f1}\")"
   ]
  },
  {
   "cell_type": "code",
   "execution_count": null,
   "metadata": {},
   "outputs": [],
   "source": [
    "fig, ax = plt.subplots(figsize=(15, 5))\n",
    "df_stats.sort_values(by=\"n_images\", ascending=False).plot(x=\"cluster_ref_id\", y=\"n_images\", kind=\"bar\", ax=ax)"
   ]
  },
  {
   "cell_type": "markdown",
   "metadata": {},
   "source": [
    "# Mark false positives"
   ]
  },
  {
   "cell_type": "code",
   "execution_count": null,
   "metadata": {},
   "outputs": [],
   "source": [
    "id = 253\n",
    "\n",
    "ids = show_cluster(df=df, cluster_id=id, faces_folder=faces_folder, originals_folder=src_folder, limit=50, ncol=5, show_original=True, plot=False, save_folder = None, hide_axis=False, title_col = None, marked = [])\n",
    "\n",
    "index_to_mark = []\n",
    "marked, unmarked = split_ids(ids, index_to_mark)\n",
    "\n",
    "ids = show_cluster(df=df, cluster_id=id, faces_folder=faces_folder, originals_folder=src_folder, limit=50, ncol=5, show_original=True, plot=True, save_folder = None, hide_axis=False, title_col = None, marked = marked)\n",
    "\n",
    "# api = LaLibAPI(df_folder=\"\") \n",
    "# api.set_metadatas(unmarked, \"otherConditions\", \"Queen Elizabeth II\")"
   ]
  },
  {
   "cell_type": "code",
   "execution_count": null,
   "metadata": {},
   "outputs": [],
   "source": [
    "# save unmarked \n",
    "import json\n",
    "\n",
    "with open(f\"reference_clusters/cluster_{id}.json\", \"w\") as f:\n",
    "    json.dump(unmarked, f)"
   ]
  },
  {
   "cell_type": "code",
   "execution_count": null,
   "metadata": {},
   "outputs": [],
   "source": [
    "# read cluster_1.json\n",
    "# with open(f\"reference_clusters/cluster_{id}.json\", \"r\") as f:\n",
    "#     unmarked = json.load(f)\n",
    "\n",
    "# unmarked"
   ]
  },
  {
   "cell_type": "markdown",
   "metadata": {},
   "source": [
    "# Searching for the person identity"
   ]
  },
  {
   "cell_type": "code",
   "execution_count": null,
   "metadata": {},
   "outputs": [],
   "source": [
    "from ast import literal_eval\n",
    "\n",
    "dfs = []\n",
    "for idx in range(1,17):\n",
    "    df_tmp = pd.read_csv(f\"/media/bao/t7/la_lib_dataset/df/df{idx}.csv\", converters={\"metadata\": literal_eval})\n",
    "    dfs.append(df_tmp)\n",
    "\n",
    "df_metadata = pd.concat(dfs, ignore_index=True)"
   ]
  },
  {
   "cell_type": "code",
   "execution_count": null,
   "metadata": {},
   "outputs": [],
   "source": [
    "cluster_id = 774\n",
    "ids, _ = show_cluster(df=df, cluster_id=cluster_id, faces_folder=faces_folder, originals_folder=src_folder, limit=100, ncol=5, show_original=True, plot=False, save_folder = None, hide_axis=False, title_col = None, marked = [])\n",
    "original_filenames = [df_metadata[df_metadata[\"id\"] == id][\"metadata\"].values[0].get(\"filename\") for id in ids]\n",
    "df_current_cluster = df[df[\"cluster_label\"] == cluster_id].copy()\n",
    "df_current_cluster[\"image_id\"] = ids\n",
    "df_current_cluster[\"original_filename\"] = original_filenames\n",
    "df_current_cluster[\"title\"] = df_current_cluster[\"original_filename\"] + \"\\n\" + df_current_cluster[\"dst_to_mean\"].apply(lambda x: f\"{x:.4f}\")\n",
    "index_to_mark = []\n",
    "marked, unmarked = split_ids(ids, index_to_mark)\n",
    "ids, _ = show_cluster(df=df_current_cluster, cluster_id=cluster_id, faces_folder=faces_folder, originals_folder=src_folder, limit=100, ncol=10, show_original=False, plot=True, save_folder = None, hide_axis=False, title_col = \"title\", marked = marked)"
   ]
  },
  {
   "cell_type": "code",
   "execution_count": null,
   "metadata": {},
   "outputs": [],
   "source": [
    "marked, unmarked = split_ids(ids, index_to_mark)"
   ]
  },
  {
   "cell_type": "code",
   "execution_count": null,
   "metadata": {},
   "outputs": [],
   "source": [
    "# api = LaLibAPI(df_folder=\"\") \n",
    "# api.set_metadatas(unmarked, \"otherConditions\", \"Overney Mireille\")"
   ]
  }
 ],
 "metadata": {
  "kernelspec": {
   "display_name": "Python 3.10.4 ('snowflakes')",
   "language": "python",
   "name": "python3"
  },
  "language_info": {
   "codemirror_mode": {
    "name": "ipython",
    "version": 3
   },
   "file_extension": ".py",
   "mimetype": "text/x-python",
   "name": "python",
   "nbconvert_exporter": "python",
   "pygments_lexer": "ipython3",
   "version": "3.10.4"
  },
  "orig_nbformat": 4,
  "vscode": {
   "interpreter": {
    "hash": "01f49e0e7f49e8c39b51c5bad5f7f78046f883f46ef3b19f9dfb3452a1233494"
   }
  }
 },
 "nbformat": 4,
 "nbformat_minor": 2
}

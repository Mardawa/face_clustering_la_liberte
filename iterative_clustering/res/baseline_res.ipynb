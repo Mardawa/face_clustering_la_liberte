{
 "cells": [
  {
   "cell_type": "code",
   "execution_count": 1,
   "metadata": {},
   "outputs": [],
   "source": [
    "import pandas as pd"
   ]
  },
  {
   "cell_type": "code",
   "execution_count": 2,
   "metadata": {},
   "outputs": [],
   "source": [
    "df = pd.read_csv('res_baseline.csv')"
   ]
  },
  {
   "cell_type": "code",
   "execution_count": 3,
   "metadata": {},
   "outputs": [],
   "source": [
    "df_res = pd.DataFrame(columns=['precision_mean', 'precision_se', 'recall_mean', 'recall_se', 'f1_mean', 'f1_se', 'time_mean', 'time_se'])\n",
    "\n",
    "precision_mean = df['precision'].mean()\n",
    "precision_se = df['precision'].sem()\n",
    "\n",
    "recall_mean = df['recall'].mean() \n",
    "recall_se = df['recall'].sem()\n",
    "\n",
    "f1_mean = df['f1'].mean() \n",
    "f1_se = df['f1'].sem()\n",
    "\n",
    "time_mean = df['time'].mean()\n",
    "time_se = df['time'].sem()\n",
    "\n",
    "output = (\n",
    "    precision_mean,\n",
    "    precision_se,\n",
    "    recall_mean,\n",
    "    recall_se,\n",
    "    f1_mean,\n",
    "    f1_se,\n",
    "    time_mean,\n",
    "    time_se\n",
    "    )\n",
    "\n",
    "df_res.loc[0] = output"
   ]
  },
  {
   "cell_type": "code",
   "execution_count": 4,
   "metadata": {},
   "outputs": [
    {
     "data": {
      "text/html": [
       "<div>\n",
       "<style scoped>\n",
       "    .dataframe tbody tr th:only-of-type {\n",
       "        vertical-align: middle;\n",
       "    }\n",
       "\n",
       "    .dataframe tbody tr th {\n",
       "        vertical-align: top;\n",
       "    }\n",
       "\n",
       "    .dataframe thead th {\n",
       "        text-align: right;\n",
       "    }\n",
       "</style>\n",
       "<table border=\"1\" class=\"dataframe\">\n",
       "  <thead>\n",
       "    <tr style=\"text-align: right;\">\n",
       "      <th></th>\n",
       "      <th>precision_mean</th>\n",
       "      <th>precision_se</th>\n",
       "      <th>recall_mean</th>\n",
       "      <th>recall_se</th>\n",
       "      <th>f1_mean</th>\n",
       "      <th>f1_se</th>\n",
       "      <th>time_mean</th>\n",
       "      <th>time_se</th>\n",
       "    </tr>\n",
       "  </thead>\n",
       "  <tbody>\n",
       "    <tr>\n",
       "      <th>0</th>\n",
       "      <td>0.967775</td>\n",
       "      <td>0.000131</td>\n",
       "      <td>0.921815</td>\n",
       "      <td>7.401487e-17</td>\n",
       "      <td>0.944236</td>\n",
       "      <td>0.000062</td>\n",
       "      <td>15.594521</td>\n",
       "      <td>0.164975</td>\n",
       "    </tr>\n",
       "  </tbody>\n",
       "</table>\n",
       "</div>"
      ],
      "text/plain": [
       "   precision_mean  precision_se  recall_mean     recall_se   f1_mean  \\\n",
       "0        0.967775      0.000131     0.921815  7.401487e-17  0.944236   \n",
       "\n",
       "      f1_se  time_mean   time_se  \n",
       "0  0.000062  15.594521  0.164975  "
      ]
     },
     "execution_count": 4,
     "metadata": {},
     "output_type": "execute_result"
    }
   ],
   "source": [
    "df_res"
   ]
  },
  {
   "cell_type": "code",
   "execution_count": 5,
   "metadata": {},
   "outputs": [],
   "source": [
    "df_res[\"precision\"] = df_res[\"precision_mean\"].round(4).astype(str) + \"+/-\" + df_res[\"precision_se\"].round(4).astype(str)\n",
    "df_res[\"recall\"] = df_res[\"recall_mean\"].round(4).astype(str) + \"+/-\" + df_res[\"recall_se\"].round(4).astype(str)\n",
    "df_res[\"f1\"] = df_res[\"f1_mean\"].round(4).astype(str) + \"+/-\" + df_res[\"f1_se\"].round(4).astype(str)\n",
    "df_res[\"time\"] = df_res[\"time_mean\"].round(2).astype(str) + \"+/-\" + df_res[\"time_se\"].round(2).astype(str)"
   ]
  },
  {
   "cell_type": "code",
   "execution_count": 6,
   "metadata": {},
   "outputs": [
    {
     "name": "stdout",
     "output_type": "stream",
     "text": [
      "\\begin{tabular}{llll}\n",
      "\\toprule\n",
      "      precision &       recall &              f1 &     time [s] \\\\\n",
      "\\midrule\n",
      "0.9678+/-0.0001 & 0.9218+/-0.0 & 0.9442+/-0.0001 & 15.59+/-0.16 \\\\\n",
      "\\bottomrule\n",
      "\\end{tabular}\n",
      "\n"
     ]
    },
    {
     "name": "stderr",
     "output_type": "stream",
     "text": [
      "/tmp/ipykernel_7949/3717626737.py:2: FutureWarning: In future versions `DataFrame.to_latex` is expected to utilise the base implementation of `Styler.to_latex` for formatting and rendering. The arguments signature may therefore change. It is recommended instead to use `DataFrame.style.to_latex` which also contains additional functionality.\n",
      "  print(df_res.sort_values(by=[\"precision_mean\", \"f1_mean\"], ascending=False).to_latex(index=False, columns=['precision', 'recall', 'f1', 'time [s]']))\n"
     ]
    }
   ],
   "source": [
    "df_res.rename(columns={'cluster_outliers': 'OB', 'time': 'time [s]'}, inplace=True)\n",
    "print(df_res.sort_values(by=[\"precision_mean\", \"f1_mean\"], ascending=False).to_latex(index=False, columns=['precision', 'recall', 'f1', 'time [s]']))"
   ]
  }
 ],
 "metadata": {
  "kernelspec": {
   "display_name": "Python 3.10.4 ('snowflakes')",
   "language": "python",
   "name": "python3"
  },
  "language_info": {
   "codemirror_mode": {
    "name": "ipython",
    "version": 3
   },
   "file_extension": ".py",
   "mimetype": "text/x-python",
   "name": "python",
   "nbconvert_exporter": "python",
   "pygments_lexer": "ipython3",
   "version": "3.10.4"
  },
  "orig_nbformat": 4,
  "vscode": {
   "interpreter": {
    "hash": "01f49e0e7f49e8c39b51c5bad5f7f78046f883f46ef3b19f9dfb3452a1233494"
   }
  }
 },
 "nbformat": 4,
 "nbformat_minor": 2
}

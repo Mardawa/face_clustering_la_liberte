{
 "cells": [
  {
   "cell_type": "code",
   "execution_count": 1,
   "metadata": {},
   "outputs": [],
   "source": [
    "import pathlib\n",
    "import pandas as pd\n",
    "import json\n",
    "import cv2\n",
    "import numpy as np\n",
    "from tqdm import tqdm\n",
    "from time import perf_counter\n",
    "from sklearn.model_selection import KFold \n",
    "\n",
    "import sys\n",
    "sys.path.append(\"../\")\n",
    "\n",
    "from face_clustering_pipeline import FaceClusteringPipeline\n",
    "from iterative_clustering.iterative_clustering import split_clustering, merge_clustering\n",
    "from helper.compare_w_reference import compare_w_ref\n",
    "from helper.display_cluster import faceId_to_ogId"
   ]
  },
  {
   "cell_type": "markdown",
   "metadata": {},
   "source": [
    "* Divide the full dataset into <n> subsets\n",
    "* Cluster each subset using DBSCAN (best f1 parameter)\n",
    "* Compute the average embedding for each predicted cluster\n",
    "* Merge the clusters from each subset into a single set of clusters (using the\n",
    "  average embedding) => should try using either DBSCAN or AHC (average linkage)\n",
    "* Compute performance metric "
   ]
  },
  {
   "cell_type": "code",
   "execution_count": 2,
   "metadata": {},
   "outputs": [],
   "source": [
    "base_path = pathlib.Path(\"/media/bao/t7/la_lib_dataset\")\n",
    "\n",
    "src_folder = base_path / \"img\"\n",
    "faces_folder = base_path / \"faces\"\n",
    "save_folder = base_path / \"results_iterative_clustering\"\n",
    "\n",
    "df_folder = save_folder / \"df_divide_merge\"\n",
    "log_folder = save_folder / \"log_divide_merge\"\n",
    "\n",
    "df_folder.mkdir(exist_ok=True, parents=True)\n",
    "log_folder.mkdir(exist_ok=True, parents=True)"
   ]
  },
  {
   "cell_type": "code",
   "execution_count": 3,
   "metadata": {},
   "outputs": [],
   "source": [
    "faceClusteringPipeline = FaceClusteringPipeline(src_folder, faces_folder, df_folder, log_folder)"
   ]
  },
  {
   "cell_type": "code",
   "execution_count": 4,
   "metadata": {},
   "outputs": [],
   "source": [
    "model_name = \"Facenet512\"\n",
    "\n",
    "# load the embeddings \n",
    "df = pd.read_csv('/media/bao/t7/la_lib_dataset/160k/df/keep_representation_Facenet512.csv', usecols=['image', f\"{model_name}_representation\"] ,converters={f\"{model_name}_representation\": json.loads})\n",
    "\n",
    "df = df.sample(frac=1, random_state=42).reset_index(drop=True)"
   ]
  },
  {
   "cell_type": "code",
   "execution_count": 19,
   "metadata": {},
   "outputs": [
    {
     "name": "stderr",
     "output_type": "stream",
     "text": [
      "  0%|          | 0/9 [00:00<?, ?it/s]"
     ]
    },
    {
     "name": "stdout",
     "output_type": "stream",
     "text": [
      "Number of faces: 10000 with split 2:  2.29 seconds\n",
      "Number of faces: 20000 with split 2:  7.51 seconds\n",
      "Number of faces: 30000 with split 2:  15.82 seconds\n",
      "Number of faces: 40000 with split 2:  27.38 seconds\n",
      "Number of faces: 50000 with split 2:  42.38 seconds\n",
      "Number of faces: 60000 with split 2:  60.51 seconds\n",
      "Number of faces: 70000 with split 2:  81.49 seconds\n",
      "Number of faces: 80000 with split 2:  105.57 seconds\n",
      "Number of faces: 90000 with split 2:  130.46 seconds\n",
      "Number of faces: 100000 with split 2:  159.81 seconds\n",
      "Number of faces: 110000 with split 2:  193.18 seconds\n",
      "Number of faces: 120000 with split 2:  224.30 seconds\n",
      "Number of faces: 130000 with split 2:  261.22 seconds\n",
      "Number of faces: 140000 with split 2:  302.21 seconds\n",
      "Number of faces: 150000 with split 2:  342.97 seconds\n",
      "Number of faces: 153019 with split 2:  "
     ]
    },
    {
     "name": "stderr",
     "output_type": "stream",
     "text": [
      " 11%|█         | 1/9 [38:40<5:09:23, 2320.45s/it]"
     ]
    },
    {
     "name": "stdout",
     "output_type": "stream",
     "text": [
      "363.06 seconds\n",
      "Number of faces: 10000 with split 3:  1.76 seconds\n",
      "Number of faces: 20000 with split 3:  6.61 seconds\n",
      "Number of faces: 30000 with split 3:  14.21 seconds\n",
      "Number of faces: 40000 with split 3:  25.55 seconds\n",
      "Number of faces: 50000 with split 3:  38.91 seconds\n",
      "Number of faces: 60000 with split 3:  54.81 seconds\n",
      "Number of faces: 70000 with split 3:  73.71 seconds\n",
      "Number of faces: 80000 with split 3:  96.27 seconds\n",
      "Number of faces: 90000 with split 3:  120.77 seconds\n",
      "Number of faces: 100000 with split 3:  147.84 seconds\n",
      "Number of faces: 110000 with split 3:  176.01 seconds\n",
      "Number of faces: 120000 with split 3:  209.56 seconds\n",
      "Number of faces: 130000 with split 3:  242.96 seconds\n",
      "Number of faces: 140000 with split 3:  281.12 seconds\n",
      "Number of faces: 150000 with split 3:  317.59 seconds\n",
      "Number of faces: 153019 with split 3:  "
     ]
    },
    {
     "name": "stderr",
     "output_type": "stream",
     "text": [
      " 22%|██▏       | 2/9 [1:14:23<4:18:32, 2216.09s/it]"
     ]
    },
    {
     "name": "stdout",
     "output_type": "stream",
     "text": [
      "335.09 seconds\n",
      "Number of faces: 10000 with split 4:  1.71 seconds\n",
      "Number of faces: 20000 with split 4:  6.38 seconds\n",
      "Number of faces: 30000 with split 4:  13.49 seconds\n",
      "Number of faces: 40000 with split 4:  23.28 seconds\n",
      "Number of faces: 50000 with split 4:  37.04 seconds\n",
      "Number of faces: 60000 with split 4:  52.48 seconds\n",
      "Number of faces: 70000 with split 4:  70.52 seconds\n",
      "Number of faces: 80000 with split 4:  91.20 seconds\n",
      "Number of faces: 90000 with split 4:  114.60 seconds\n",
      "Number of faces: 100000 with split 4:  141.25 seconds\n",
      "Number of faces: 110000 with split 4:  171.48 seconds\n",
      "Number of faces: 120000 with split 4:  199.48 seconds\n",
      "Number of faces: 130000 with split 4:  233.24 seconds\n",
      "Number of faces: 140000 with split 4:  272.84 seconds\n",
      "Number of faces: 150000 with split 4:  320.65 seconds\n",
      "Number of faces: 153019 with split 4:  "
     ]
    },
    {
     "name": "stderr",
     "output_type": "stream",
     "text": [
      " 33%|███▎      | 3/9 [1:49:10<3:35:42, 2157.02s/it]"
     ]
    },
    {
     "name": "stdout",
     "output_type": "stream",
     "text": [
      "336.81 seconds\n",
      "Number of faces: 10000 with split 5:  1.67 seconds\n",
      "Number of faces: 20000 with split 5:  6.44 seconds\n",
      "Number of faces: 30000 with split 5:  13.95 seconds\n",
      "Number of faces: 40000 with split 5:  23.53 seconds\n",
      "Number of faces: 50000 with split 5:  35.92 seconds\n",
      "Number of faces: 60000 with split 5:  53.87 seconds\n",
      "Number of faces: 70000 with split 5:  71.58 seconds\n",
      "Number of faces: 80000 with split 5:  92.72 seconds\n",
      "Number of faces: 90000 with split 5:  117.41 seconds\n",
      "Number of faces: 100000 with split 5:  142.91 seconds\n",
      "Number of faces: 110000 with split 5:  172.58 seconds\n",
      "Number of faces: 120000 with split 5:  206.36 seconds\n",
      "Number of faces: 130000 with split 5:  236.05 seconds\n",
      "Number of faces: 140000 with split 5:  269.42 seconds\n",
      "Number of faces: 150000 with split 5:  307.74 seconds\n",
      "Number of faces: 153019 with split 5:  "
     ]
    },
    {
     "name": "stderr",
     "output_type": "stream",
     "text": [
      " 44%|████▍     | 4/9 [2:23:41<2:56:56, 2123.30s/it]"
     ]
    },
    {
     "name": "stdout",
     "output_type": "stream",
     "text": [
      "319.14 seconds\n",
      "Number of faces: 10000 with split 6:  1.64 seconds\n",
      "Number of faces: 20000 with split 6:  6.05 seconds\n",
      "Number of faces: 30000 with split 6:  13.00 seconds\n",
      "Number of faces: 40000 with split 6:  22.39 seconds\n",
      "Number of faces: 50000 with split 6:  34.20 seconds\n",
      "Number of faces: 60000 with split 6:  48.79 seconds\n",
      "Number of faces: 70000 with split 6:  67.54 seconds\n",
      "Number of faces: 80000 with split 6:  88.51 seconds\n",
      "Number of faces: 90000 with split 6:  110.83 seconds\n",
      "Number of faces: 100000 with split 6:  136.54 seconds\n",
      "Number of faces: 110000 with split 6:  171.85 seconds\n",
      "Number of faces: 120000 with split 6:  201.51 seconds\n",
      "Number of faces: 130000 with split 6:  240.35 seconds\n",
      "Number of faces: 140000 with split 6:  271.20 seconds\n",
      "Number of faces: 150000 with split 6:  315.23 seconds\n",
      "Number of faces: 153019 with split 6:  "
     ]
    },
    {
     "name": "stderr",
     "output_type": "stream",
     "text": [
      " 56%|█████▌    | 5/9 [2:57:56<2:19:53, 2098.38s/it]"
     ]
    },
    {
     "name": "stdout",
     "output_type": "stream",
     "text": [
      "324.26 seconds\n",
      "Number of faces: 10000 with split 7:  1.69 seconds\n",
      "Number of faces: 20000 with split 7:  6.24 seconds\n",
      "Number of faces: 30000 with split 7:  13.12 seconds\n",
      "Number of faces: 40000 with split 7:  22.72 seconds\n",
      "Number of faces: 50000 with split 7:  35.16 seconds\n",
      "Number of faces: 60000 with split 7:  49.81 seconds\n",
      "Number of faces: 70000 with split 7:  66.95 seconds\n",
      "Number of faces: 80000 with split 7:  87.10 seconds\n",
      "Number of faces: 90000 with split 7:  112.87 seconds\n",
      "Number of faces: 100000 with split 7:  138.40 seconds\n",
      "Number of faces: 110000 with split 7:  168.89 seconds\n",
      "Number of faces: 120000 with split 7:  198.40 seconds\n",
      "Number of faces: 130000 with split 7:  230.80 seconds\n",
      "Number of faces: 140000 with split 7:  270.16 seconds\n",
      "Number of faces: 150000 with split 7:  304.20 seconds\n",
      "Number of faces: 153019 with split 7:  "
     ]
    },
    {
     "name": "stderr",
     "output_type": "stream",
     "text": [
      " 67%|██████▋   | 6/9 [3:31:36<1:43:35, 2071.86s/it]"
     ]
    },
    {
     "name": "stdout",
     "output_type": "stream",
     "text": [
      "313.58 seconds\n",
      "Number of faces: 10000 with split 8:  1.62 seconds\n",
      "Number of faces: 20000 with split 8:  5.97 seconds\n",
      "Number of faces: 30000 with split 8:  12.66 seconds\n",
      "Number of faces: 40000 with split 8:  21.98 seconds\n",
      "Number of faces: 50000 with split 8:  33.52 seconds\n",
      "Number of faces: 60000 with split 8:  47.91 seconds\n",
      "Number of faces: 70000 with split 8:  64.36 seconds\n",
      "Number of faces: 80000 with split 8:  84.29 seconds\n",
      "Number of faces: 90000 with split 8:  106.50 seconds\n",
      "Number of faces: 100000 with split 8:  134.75 seconds\n",
      "Number of faces: 110000 with split 8:  161.55 seconds\n",
      "Number of faces: 120000 with split 8:  193.24 seconds\n",
      "Number of faces: 130000 with split 8:  235.63 seconds\n",
      "Number of faces: 140000 with split 8:  276.84 seconds\n",
      "Number of faces: 150000 with split 8:  312.92 seconds\n",
      "Number of faces: 153019 with split 8:  "
     ]
    },
    {
     "name": "stderr",
     "output_type": "stream",
     "text": [
      " 78%|███████▊  | 7/9 [4:05:11<1:08:26, 2053.36s/it]"
     ]
    },
    {
     "name": "stdout",
     "output_type": "stream",
     "text": [
      "321.22 seconds\n",
      "Number of faces: 10000 with split 9:  1.61 seconds\n",
      "Number of faces: 20000 with split 9:  5.96 seconds\n",
      "Number of faces: 30000 with split 9:  12.50 seconds\n",
      "Number of faces: 40000 with split 9:  21.60 seconds\n",
      "Number of faces: 50000 with split 9:  33.53 seconds\n",
      "Number of faces: 60000 with split 9:  47.98 seconds\n",
      "Number of faces: 70000 with split 9:  63.53 seconds\n",
      "Number of faces: 80000 with split 9:  83.80 seconds\n",
      "Number of faces: 90000 with split 9:  106.28 seconds\n",
      "Number of faces: 100000 with split 9:  132.53 seconds\n",
      "Number of faces: 110000 with split 9:  162.20 seconds\n",
      "Number of faces: 120000 with split 9:  201.01 seconds\n",
      "Number of faces: 130000 with split 9:  231.93 seconds\n",
      "Number of faces: 140000 with split 9:  279.84 seconds\n",
      "Number of faces: 150000 with split 9:  319.95 seconds\n",
      "Number of faces: 153019 with split 9:  "
     ]
    },
    {
     "name": "stderr",
     "output_type": "stream",
     "text": [
      " 89%|████████▉ | 8/9 [4:39:03<34:06, 2046.62s/it]  "
     ]
    },
    {
     "name": "stdout",
     "output_type": "stream",
     "text": [
      "327.66 seconds\n",
      "Number of faces: 10000 with split 10:  1.67 seconds\n",
      "Number of faces: 20000 with split 10:  6.04 seconds\n",
      "Number of faces: 30000 with split 10:  12.89 seconds\n",
      "Number of faces: 40000 with split 10:  22.27 seconds\n",
      "Number of faces: 50000 with split 10:  33.84 seconds\n",
      "Number of faces: 60000 with split 10:  49.59 seconds\n",
      "Number of faces: 70000 with split 10:  65.50 seconds\n",
      "Number of faces: 80000 with split 10:  86.50 seconds\n",
      "Number of faces: 90000 with split 10:  109.15 seconds\n",
      "Number of faces: 100000 with split 10:  137.48 seconds\n",
      "Number of faces: 110000 with split 10:  162.71 seconds\n",
      "Number of faces: 120000 with split 10:  198.08 seconds\n",
      "Number of faces: 130000 with split 10:  230.84 seconds\n",
      "Number of faces: 140000 with split 10:  270.70 seconds\n",
      "Number of faces: 150000 with split 10:  299.43 seconds\n",
      "Number of faces: 153019 with split 10:  "
     ]
    },
    {
     "name": "stderr",
     "output_type": "stream",
     "text": [
      "100%|██████████| 9/9 [5:12:27<00:00, 2083.06s/it]"
     ]
    },
    {
     "name": "stdout",
     "output_type": "stream",
     "text": [
      "316.67 seconds\n"
     ]
    },
    {
     "name": "stderr",
     "output_type": "stream",
     "text": [
      "\n"
     ]
    }
   ],
   "source": [
    "for n_splits in tqdm(range(2, 11)):\n",
    "    cluster_outlier = \"all\"\n",
    "\n",
    "    times = []\n",
    "    ns = []\n",
    "\n",
    "    for n in range(10_000, 160_001, 10_000):\n",
    "\n",
    "        if n > len(df):\n",
    "            n = len(df)\n",
    "        \n",
    "        print(f\"Number of faces: {n} with split {n_splits}: \", end=\" \")\n",
    "        df_input = df.sample(n=n, random_state=42)\n",
    "\n",
    "        df_splits = np.array_split(df_input, n_splits)\n",
    "\n",
    "        total_t = 0\n",
    "        df_res, t_res = split_clustering(df_splits, faceClusteringPipeline=faceClusteringPipeline, df_folder=df_folder, model_name=model_name)\n",
    "        total_t = sum(t_res)\n",
    "        \n",
    "        if cluster_outlier == \"all\":\n",
    "            t0 = perf_counter()\n",
    "\n",
    "            df_inliers = df_res[df_res[\"cluster_label\"] != -1]\n",
    "            df_outliers = df_res[df_res[\"cluster_label\"] == -1][[\"image\", f\"{model_name}_representation\"]]\n",
    "\n",
    "            df_outliers_res, _ = split_clustering([df_outliers], faceClusteringPipeline=faceClusteringPipeline, df_folder=df_folder, model_name=model_name)\n",
    "            clustering_res = [df_inliers, df_outliers_res]\n",
    "            df_res = merge_clustering(clustering_res, faceClusteringPipeline=faceClusteringPipeline, df_folder=df_folder, model_name=model_name)\n",
    "            t1 = perf_counter()\n",
    "\n",
    "            total_t += t1-t0\n",
    "        \n",
    "        print(f\"{total_t:.2f} seconds\")\n",
    "\n",
    "        times.append(total_t)\n",
    "        ns.append(n)\n",
    "    \n",
    "    df_results = pd.DataFrame({\"n\": ns, \"time\": times})\n",
    "    df_results.to_csv(f\"time_measurements/dm_{n_splits}.csv\", index=False)"
   ]
  },
  {
   "cell_type": "markdown",
   "metadata": {},
   "source": [
    "Baseline time for the \"40k\" dataset full clustering: 15s\n",
    "\n",
    "* 2022-11-05 17:23:31,971 Clustering faces\n",
    "* 2022-11-05 17:23:31,972   **33747** faces to cluster\n",
    "* 2022-11-05 17:23:33,161 algorithm: DBSCAN\n",
    "* 2022-11-05 17:23:33,161 min_samples: 2\n",
    "* 2022-11-05 17:23:33,161 distance_metric: euclidean\n",
    "* 2022-11-05 17:23:33,161 threshold: 23.06\n",
    "* 2022-11-05 17:23:48,844 Clustering faces took **15.682254252002167** seconds\n",
    "* 2022-11-05 17:23:48,846 saving under /media/bao/t7/la_lib_dataset/results_dbscan/df/cluster_Facenet512_DBSCAN_euclidean_2_23.06.csv\n",
    "* 2022-11-05 17:23:49,017  Found 2 clusters"
   ]
  },
  {
   "cell_type": "markdown",
   "metadata": {},
   "source": [
    "A very low precision, indicate that some reference cluster were not detected and\n",
    "thus the number of false positive is high => making the precision very low"
   ]
  }
 ],
 "metadata": {
  "kernelspec": {
   "display_name": "Python 3.10.4 ('snowflakes')",
   "language": "python",
   "name": "python3"
  },
  "language_info": {
   "codemirror_mode": {
    "name": "ipython",
    "version": 3
   },
   "file_extension": ".py",
   "mimetype": "text/x-python",
   "name": "python",
   "nbconvert_exporter": "python",
   "pygments_lexer": "ipython3",
   "version": "3.10.4"
  },
  "orig_nbformat": 4,
  "vscode": {
   "interpreter": {
    "hash": "01f49e0e7f49e8c39b51c5bad5f7f78046f883f46ef3b19f9dfb3452a1233494"
   }
  }
 },
 "nbformat": 4,
 "nbformat_minor": 2
}

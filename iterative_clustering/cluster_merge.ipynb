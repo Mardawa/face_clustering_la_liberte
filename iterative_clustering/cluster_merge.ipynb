{
 "cells": [
  {
   "cell_type": "code",
   "execution_count": 1,
   "metadata": {},
   "outputs": [],
   "source": [
    "import pathlib\n",
    "import pandas as pd\n",
    "import json\n",
    "import cv2\n",
    "import numpy as np\n",
    "from tqdm import tqdm\n",
    "from time import perf_counter\n",
    "from sklearn.model_selection import KFold \n",
    "\n",
    "import sys\n",
    "sys.path.append(\"../\")\n",
    "\n",
    "from iterative_clustering.iterative_clustering import split_clustering, merge_clustering\n",
    "from face_clustering_pipeline import FaceClusteringPipeline\n",
    "from helper.compare_w_reference import compare_w_ref"
   ]
  },
  {
   "cell_type": "markdown",
   "metadata": {},
   "source": [
    "* Divide the full dataset into <n> subsets\n",
    "* Cluster each subset using DBSCAN (best f1 parameter)\n",
    "* Compute the average embedding for each predicted cluster\n",
    "* Merge the clusters from each subset into a single set of clusters (using the\n",
    "  average embedding) => should try using either DBSCAN or AHC (average linkage)\n",
    "* Compute performance metric "
   ]
  },
  {
   "cell_type": "code",
   "execution_count": 2,
   "metadata": {},
   "outputs": [],
   "source": [
    "base_path = pathlib.Path(\"/media/bao/t7/la_lib_dataset\")\n",
    "\n",
    "src_folder = base_path / \"img\"\n",
    "faces_folder = base_path / \"faces\"\n",
    "save_folder = base_path / \"results_iterative_clustering\"\n",
    "\n",
    "df_folder = save_folder / \"df_divide_merge\"\n",
    "log_folder = save_folder / \"log_divide_merge\"\n",
    "\n",
    "df_folder.mkdir(exist_ok=True, parents=True)\n",
    "log_folder.mkdir(exist_ok=True, parents=True)"
   ]
  },
  {
   "cell_type": "code",
   "execution_count": 3,
   "metadata": {},
   "outputs": [],
   "source": [
    "faceClusteringPipeline = FaceClusteringPipeline(src_folder, faces_folder, df_folder, log_folder)"
   ]
  },
  {
   "cell_type": "code",
   "execution_count": 4,
   "metadata": {},
   "outputs": [],
   "source": [
    "# Loading the (pre-computed) embeddings \n",
    "model_name = \"Facenet512\"\n",
    "df = pd.read_csv(base_path / 'results_dbscan/df/keep_representation_Facenet512.csv', converters={f\"{model_name}_representation\": json.loads}, usecols=[\"image\", f\"{model_name}_representation\"])"
   ]
  },
  {
   "cell_type": "code",
   "execution_count": 10,
   "metadata": {},
   "outputs": [
    {
     "name": "stderr",
     "output_type": "stream",
     "text": [
      "100%|██████████| 3/3 [23:13<00:00, 464.34s/it]\n"
     ]
    }
   ],
   "source": [
    "# random_state is set for reproducibility\n",
    "for n_splits in tqdm([10, 50, 100]):\n",
    "    kf = KFold(n_splits=n_splits, random_state=42, shuffle=True) \n",
    "\n",
    "    for cluster_outlier in [\"all\", \"skip\"]:\n",
    "            precisions = []\n",
    "            recalls = []\n",
    "            f1s = []\n",
    "            times = []\n",
    "\n",
    "            for idx, (index_baseline, index_1by1) in enumerate(kf.split(df)):\n",
    "\n",
    "                if idx >= 10:\n",
    "                    break\n",
    "                \n",
    "                df_baseline: pd.DataFrame = df.iloc[index_baseline].copy()\n",
    "                df_1by1: pd.DataFrame = df.iloc[index_1by1].copy()\n",
    "\n",
    "                df_splits = [df_baseline, df_1by1]\n",
    "\n",
    "                total_t = 0\n",
    "                df_res, t_res = split_clustering(df_splits, faceClusteringPipeline=faceClusteringPipeline, df_folder = df_folder, model_name=model_name)\n",
    "                # exclude the first time (which is the original clustering\n",
    "                # considered already pre-computed)\n",
    "                total_t = sum(t_res[1:])\n",
    "\n",
    "                if cluster_outlier == \"all\":\n",
    "                    t0 = perf_counter()\n",
    "                    df_inliers = df_res[df_res[\"cluster_label\"] != -1]\n",
    "                    df_outliers = df_res[df_res[\"cluster_label\"] == -1][[\"image\", f\"{model_name}_representation\"]]\n",
    "                    # cluster the outliers without splitting\n",
    "                    df_outliers_res, _ = split_clustering([df_outliers])\n",
    "                    clustering_res = [df_inliers, df_outliers_res]\n",
    "                    df_res = merge_clustering(clustering_res, df_folder=df_folder, model_name=model_name, faceClusteringPipeline=faceClusteringPipeline)\n",
    "                    t1 = perf_counter()\n",
    "\n",
    "                    total_t += t1-t0\n",
    "\n",
    "                df_res[\"face_id\"] = df_res[\"image\"].apply(pathlib.Path).apply(lambda x: x.stem)\n",
    "\n",
    "                reference_clusters_path = pathlib.Path(\"../reference_clusters\")\n",
    "\n",
    "                total_tp, total_fn, total_fp, df_stats = compare_w_ref(reference_clusters_path, df_res, faces_folder=faces_folder, src_folder=src_folder)\n",
    "\n",
    "                total_precision = total_tp / (total_tp + total_fp)\n",
    "                total_recall = total_tp / (total_tp + total_fn)\n",
    "                total_f1 = 2 * (total_precision * total_recall) / (total_precision + total_recall)\n",
    "\n",
    "                precisions.append(total_precision)\n",
    "                recalls.append(total_recall)\n",
    "                f1s.append(total_f1)\n",
    "                times.append(total_t)\n",
    "\n",
    "            df_results = pd.DataFrame({\n",
    "                \"precision\": precisions,\n",
    "                \"recall\": recalls,\n",
    "                \"f1\": f1s,\n",
    "                \"time\": times\n",
    "            })\n",
    "\n",
    "            df_results.to_csv(f\"res/res_cm_{n_splits}_{cluster_outlier}.csv\", index=False)"
   ]
  }
 ],
 "metadata": {
  "kernelspec": {
   "display_name": "Python 3.10.4 ('snowflakes')",
   "language": "python",
   "name": "python3"
  },
  "language_info": {
   "codemirror_mode": {
    "name": "ipython",
    "version": 3
   },
   "file_extension": ".py",
   "mimetype": "text/x-python",
   "name": "python",
   "nbconvert_exporter": "python",
   "pygments_lexer": "ipython3",
   "version": "3.10.4"
  },
  "orig_nbformat": 4,
  "vscode": {
   "interpreter": {
    "hash": "01f49e0e7f49e8c39b51c5bad5f7f78046f883f46ef3b19f9dfb3452a1233494"
   }
  }
 },
 "nbformat": 4,
 "nbformat_minor": 2
}
